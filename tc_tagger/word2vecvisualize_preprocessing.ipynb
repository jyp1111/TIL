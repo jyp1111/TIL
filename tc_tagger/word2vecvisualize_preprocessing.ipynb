{
  "nbformat": 4,
  "nbformat_minor": 0,
  "metadata": {
    "colab": {
      "name": "word2vecvisualize_preprocessing.ipynb",
      "provenance": [],
      "collapsed_sections": [],
      "authorship_tag": "ABX9TyNJA9/adxj4UYfRAm2QgU0v",
      "include_colab_link": true
    },
    "kernelspec": {
      "name": "python3",
      "display_name": "Python 3"
    }
  },
  "cells": [
    {
      "cell_type": "markdown",
      "metadata": {
        "id": "view-in-github",
        "colab_type": "text"
      },
      "source": [
        "<a href=\"https://colab.research.google.com/github/jyp1111/TIL/blob/master/tc_tagger/word2vecvisualize_preprocessing.ipynb\" target=\"_parent\"><img src=\"https://colab.research.google.com/assets/colab-badge.svg\" alt=\"Open In Colab\"/></a>"
      ]
    },
    {
      "cell_type": "code",
      "metadata": {
        "id": "3YUYotYp1fLH",
        "colab_type": "code",
        "colab": {
          "base_uri": "https://localhost:8080/",
          "height": 721
        },
        "outputId": "22a93400-225e-424f-c345-675ccaab894f"
      },
      "source": [
        "import pandas as pd\n",
        "df=pd.concat([pd.read_csv(\"/content/20dae_4500id_post.csv\"),pd.read_csv(\"/content/30dae_4500id_post.csv\")])\n",
        "df"
      ],
      "execution_count": null,
      "outputs": [
        {
          "output_type": "execute_result",
          "data": {
            "text/html": [
              "<div>\n",
              "<style scoped>\n",
              "    .dataframe tbody tr th:only-of-type {\n",
              "        vertical-align: middle;\n",
              "    }\n",
              "\n",
              "    .dataframe tbody tr th {\n",
              "        vertical-align: top;\n",
              "    }\n",
              "\n",
              "    .dataframe thead th {\n",
              "        text-align: right;\n",
              "    }\n",
              "</style>\n",
              "<table border=\"1\" class=\"dataframe\">\n",
              "  <thead>\n",
              "    <tr style=\"text-align: right;\">\n",
              "      <th></th>\n",
              "      <th>insta_id</th>\n",
              "      <th>inner_id</th>\n",
              "      <th>url</th>\n",
              "      <th>content</th>\n",
              "      <th>hashtag</th>\n",
              "      <th>region_tag</th>\n",
              "    </tr>\n",
              "  </thead>\n",
              "  <tbody>\n",
              "    <tr>\n",
              "      <th>0</th>\n",
              "      <td>curlygirlsoul</td>\n",
              "      <td>309870</td>\n",
              "      <td>https://www.instagram.com/p/CE1omDDnZ64/</td>\n",
              "      <td>다시 어지르는거보니. You’re back. -</td>\n",
              "      <td>#billie #puppy #puppystagram #puppylove #puppy...</td>\n",
              "      <td>NaN</td>\n",
              "    </tr>\n",
              "    <tr>\n",
              "      <th>1</th>\n",
              "      <td>curlygirlsoul</td>\n",
              "      <td>309870</td>\n",
              "      <td>https://www.instagram.com/p/CE1Zw88Hobq/</td>\n",
              "      <td>오늘 티맵이 나에게 한 몹쓸짓.너무 한 10년만에 가는 데라 입구가 헷갈려서 티맵키...</td>\n",
              "      <td>#나한테왜이래 걀국 신세계뒷길로 내 기억의 끝을 잡고 거의 도착한 이 시점에서조차 ...</td>\n",
              "      <td>NaN</td>\n",
              "    </tr>\n",
              "    <tr>\n",
              "      <th>2</th>\n",
              "      <td>curlygirlsoul</td>\n",
              "      <td>309870</td>\n",
              "      <td>https://www.instagram.com/p/CEzBc21Hrhb/</td>\n",
              "      <td>갑자기 또 이런 불쌍한 관종력 가득한 포즈. 그래도. 스릉흔드.A desperate...</td>\n",
              "      <td>#billie #puppy #puppystagram #puppylove #puppy...</td>\n",
              "      <td>NaN</td>\n",
              "    </tr>\n",
              "    <tr>\n",
              "      <th>3</th>\n",
              "      <td>curlygirlsoul</td>\n",
              "      <td>309870</td>\n",
              "      <td>https://www.instagram.com/p/CEyx3aZnr1L/</td>\n",
              "      <td>오늘 빌리. 아직 💩 은 못봤는데 상태는 70%정도 돌아온듯. 내일은 100%가즈아...</td>\n",
              "      <td>#billie #puppy #puppystagram #puppylove #puppy...</td>\n",
              "      <td>NaN</td>\n",
              "    </tr>\n",
              "    <tr>\n",
              "      <th>4</th>\n",
              "      <td>curlygirlsoul</td>\n",
              "      <td>309870</td>\n",
              "      <td>https://www.instagram.com/p/CEymi8_HDue/</td>\n",
              "      <td>어제 빌리. 진심 저녁때까지 첫번째사진처럼 쳐져있다가 페이버릿 여사친 만나고 넘나 ...</td>\n",
              "      <td>#billie #puppy #puppystagram #puppylove #puppy...</td>\n",
              "      <td>NaN</td>\n",
              "    </tr>\n",
              "    <tr>\n",
              "      <th>...</th>\n",
              "      <td>...</td>\n",
              "      <td>...</td>\n",
              "      <td>...</td>\n",
              "      <td>...</td>\n",
              "      <td>...</td>\n",
              "      <td>...</td>\n",
              "    </tr>\n",
              "    <tr>\n",
              "      <th>100592</th>\n",
              "      <td>8concept.kimhae</td>\n",
              "      <td>40451965869</td>\n",
              "      <td>https://www.instagram.com/p/CExgvEoHkns/</td>\n",
              "      <td>_.네이버검색창에👉....✔버튼청SK✔SIZE : F✔COLOR : MB.✔스트라이...</td>\n",
              "      <td>#에잇컨셉롯데김해</td>\n",
              "      <td>김해 장유 롯데 아울렛</td>\n",
              "    </tr>\n",
              "    <tr>\n",
              "      <th>100593</th>\n",
              "      <td>8concept.kimhae</td>\n",
              "      <td>40451965869</td>\n",
              "      <td>https://www.instagram.com/p/CExgHTNn_yU/</td>\n",
              "      <td>_.네이버검색창에👉....✔부츠컷청바지✔SIZE : S, M, L✔COLOR : D...</td>\n",
              "      <td>#에잇컨셉롯데김해</td>\n",
              "      <td>김해 장유 롯데 아울렛</td>\n",
              "    </tr>\n",
              "    <tr>\n",
              "      <th>100594</th>\n",
              "      <td>8concept.kimhae</td>\n",
              "      <td>40451965869</td>\n",
              "      <td>https://www.instagram.com/p/CEoiUTxnoPF/</td>\n",
              "      <td>_.네이버검색창에👉....✔어썸SK✔SIZE : F✔COLOR : BL.✔구입하기👉...</td>\n",
              "      <td>#에잇컨셉롯데김해</td>\n",
              "      <td>김해 장유 롯데 아울렛</td>\n",
              "    </tr>\n",
              "    <tr>\n",
              "      <th>100595</th>\n",
              "      <td>8concept.kimhae</td>\n",
              "      <td>40451965869</td>\n",
              "      <td>https://www.instagram.com/p/CEoh8manxSz/</td>\n",
              "      <td>_.네이버검색창에👉....✔단V니트✔SIZE : F✔COLOR : GR.✔구입하기👉...</td>\n",
              "      <td>#에잇컨셉롯데김해</td>\n",
              "      <td>김해 장유 롯데 아울렛</td>\n",
              "    </tr>\n",
              "    <tr>\n",
              "      <th>100596</th>\n",
              "      <td>8concept.kimhae</td>\n",
              "      <td>40451965869</td>\n",
              "      <td>https://www.instagram.com/p/CEnWtu8noD2/</td>\n",
              "      <td>_.네이버검색창에👉....✔디오R✔SIZE : F✔COLOR : GR / BC.✔구...</td>\n",
              "      <td>#에잇컨셉롯데김해</td>\n",
              "      <td>김해 장유 롯데 아울렛</td>\n",
              "    </tr>\n",
              "  </tbody>\n",
              "</table>\n",
              "<p>188580 rows × 6 columns</p>\n",
              "</div>"
            ],
            "text/plain": [
              "               insta_id  ...    region_tag\n",
              "0         curlygirlsoul  ...           NaN\n",
              "1         curlygirlsoul  ...           NaN\n",
              "2         curlygirlsoul  ...           NaN\n",
              "3         curlygirlsoul  ...           NaN\n",
              "4         curlygirlsoul  ...           NaN\n",
              "...                 ...  ...           ...\n",
              "100592  8concept.kimhae  ...  김해 장유 롯데 아울렛\n",
              "100593  8concept.kimhae  ...  김해 장유 롯데 아울렛\n",
              "100594  8concept.kimhae  ...  김해 장유 롯데 아울렛\n",
              "100595  8concept.kimhae  ...  김해 장유 롯데 아울렛\n",
              "100596  8concept.kimhae  ...  김해 장유 롯데 아울렛\n",
              "\n",
              "[188580 rows x 6 columns]"
            ]
          },
          "metadata": {
            "tags": []
          },
          "execution_count": 6
        }
      ]
    },
    {
      "cell_type": "code",
      "metadata": {
        "id": "7OGCok_s6hPM",
        "colab_type": "code",
        "colab": {
          "base_uri": "https://localhost:8080/",
          "height": 228
        },
        "outputId": "c51b4684-4af3-420a-a07e-6271bda01fbc"
      },
      "source": [
        "df[\"content\"]"
      ],
      "execution_count": null,
      "outputs": [
        {
          "output_type": "execute_result",
          "data": {
            "text/plain": [
              "0                                             다시 어지르는 거 보니\n",
              "1        오늘 티맵이 나에게 한 몹쓸 짓 너무 한 년만에 가는 데라 입구가 헷갈려서 티 맵키...\n",
              "2                        갑자기 또 이런 불쌍한 관종력 가득한 포즈 그래도 스릉흔 드\n",
              "3                     오늘 빌리 아직 은 못봤는데 상태는 정도 돌아온 듯 내일은 가즈아\n",
              "4        어제 빌리 진심 저녁때까지 첫 번째 사진처럼 쳐져있다가 페이버릿 여사친 만나고 넘나...\n",
              "                               ...                        \n",
              "87978                                                  NaN\n",
              "87979                                           집에서 가볍게 읽을\n",
              "87980                                                  NaN\n",
              "87981                                                  NaN\n",
              "87982                                                  NaN\n",
              "Name: content, Length: 87983, dtype: object"
            ]
          },
          "metadata": {
            "tags": []
          },
          "execution_count": 2
        }
      ]
    },
    {
      "cell_type": "code",
      "metadata": {
        "id": "JbYvwWyZ67Sa",
        "colab_type": "code",
        "colab": {
          "base_uri": "https://localhost:8080/",
          "height": 618
        },
        "outputId": "3da8f643-401a-4034-e1f3-821cfe8bda18"
      },
      "source": [
        "!pip install konlpy"
      ],
      "execution_count": null,
      "outputs": [
        {
          "output_type": "stream",
          "text": [
            "Collecting konlpy\n",
            "\u001b[?25l  Downloading https://files.pythonhosted.org/packages/85/0e/f385566fec837c0b83f216b2da65db9997b35dd675e107752005b7d392b1/konlpy-0.5.2-py2.py3-none-any.whl (19.4MB)\n",
            "\u001b[K     |████████████████████████████████| 19.4MB 1.3MB/s \n",
            "\u001b[?25hRequirement already satisfied: numpy>=1.6 in /usr/local/lib/python3.6/dist-packages (from konlpy) (1.18.5)\n",
            "Collecting JPype1>=0.7.0\n",
            "\u001b[?25l  Downloading https://files.pythonhosted.org/packages/8b/f7/a368401e630f0e390dd0e62c39fb928e5b23741b53c2360ee7d376660927/JPype1-1.0.2-cp36-cp36m-manylinux2010_x86_64.whl (3.8MB)\n",
            "\u001b[K     |████████████████████████████████| 3.8MB 41.9MB/s \n",
            "\u001b[?25hCollecting colorama\n",
            "  Downloading https://files.pythonhosted.org/packages/c9/dc/45cdef1b4d119eb96316b3117e6d5708a08029992b2fee2c143c7a0a5cc5/colorama-0.4.3-py2.py3-none-any.whl\n",
            "Collecting beautifulsoup4==4.6.0\n",
            "\u001b[?25l  Downloading https://files.pythonhosted.org/packages/9e/d4/10f46e5cfac773e22707237bfcd51bbffeaf0a576b0a847ec7ab15bd7ace/beautifulsoup4-4.6.0-py3-none-any.whl (86kB)\n",
            "\u001b[K     |████████████████████████████████| 92kB 10.0MB/s \n",
            "\u001b[?25hCollecting tweepy>=3.7.0\n",
            "  Downloading https://files.pythonhosted.org/packages/bb/7c/99d51f80f3b77b107ebae2634108717362c059a41384a1810d13e2429a81/tweepy-3.9.0-py2.py3-none-any.whl\n",
            "Requirement already satisfied: lxml>=4.1.0 in /usr/local/lib/python3.6/dist-packages (from konlpy) (4.2.6)\n",
            "Requirement already satisfied: typing-extensions; python_version < \"3.8\" in /usr/local/lib/python3.6/dist-packages (from JPype1>=0.7.0->konlpy) (3.7.4.3)\n",
            "Requirement already satisfied: six>=1.10.0 in /usr/local/lib/python3.6/dist-packages (from tweepy>=3.7.0->konlpy) (1.15.0)\n",
            "Requirement already satisfied: requests-oauthlib>=0.7.0 in /usr/local/lib/python3.6/dist-packages (from tweepy>=3.7.0->konlpy) (1.3.0)\n",
            "Requirement already satisfied: requests[socks]>=2.11.1 in /usr/local/lib/python3.6/dist-packages (from tweepy>=3.7.0->konlpy) (2.23.0)\n",
            "Requirement already satisfied: oauthlib>=3.0.0 in /usr/local/lib/python3.6/dist-packages (from requests-oauthlib>=0.7.0->tweepy>=3.7.0->konlpy) (3.1.0)\n",
            "Requirement already satisfied: chardet<4,>=3.0.2 in /usr/local/lib/python3.6/dist-packages (from requests[socks]>=2.11.1->tweepy>=3.7.0->konlpy) (3.0.4)\n",
            "Requirement already satisfied: certifi>=2017.4.17 in /usr/local/lib/python3.6/dist-packages (from requests[socks]>=2.11.1->tweepy>=3.7.0->konlpy) (2020.6.20)\n",
            "Requirement already satisfied: urllib3!=1.25.0,!=1.25.1,<1.26,>=1.21.1 in /usr/local/lib/python3.6/dist-packages (from requests[socks]>=2.11.1->tweepy>=3.7.0->konlpy) (1.24.3)\n",
            "Requirement already satisfied: idna<3,>=2.5 in /usr/local/lib/python3.6/dist-packages (from requests[socks]>=2.11.1->tweepy>=3.7.0->konlpy) (2.10)\n",
            "Requirement already satisfied: PySocks!=1.5.7,>=1.5.6; extra == \"socks\" in /usr/local/lib/python3.6/dist-packages (from requests[socks]>=2.11.1->tweepy>=3.7.0->konlpy) (1.7.1)\n",
            "Installing collected packages: JPype1, colorama, beautifulsoup4, tweepy, konlpy\n",
            "  Found existing installation: beautifulsoup4 4.6.3\n",
            "    Uninstalling beautifulsoup4-4.6.3:\n",
            "      Successfully uninstalled beautifulsoup4-4.6.3\n",
            "  Found existing installation: tweepy 3.6.0\n",
            "    Uninstalling tweepy-3.6.0:\n",
            "      Successfully uninstalled tweepy-3.6.0\n",
            "Successfully installed JPype1-1.0.2 beautifulsoup4-4.6.0 colorama-0.4.3 konlpy-0.5.2 tweepy-3.9.0\n"
          ],
          "name": "stdout"
        }
      ]
    },
    {
      "cell_type": "code",
      "metadata": {
        "id": "dcRf9aVO7JpE",
        "colab_type": "code",
        "colab": {}
      },
      "source": [
        "from konlpy.tag import Okt\n",
        "okt=Okt()"
      ],
      "execution_count": null,
      "outputs": []
    },
    {
      "cell_type": "code",
      "metadata": {
        "id": "XRhrKeLckDjp",
        "colab_type": "code",
        "colab": {
          "base_uri": "https://localhost:8080/",
          "height": 106
        },
        "outputId": "15eb0dc0-8210-42fd-c182-721ee1382cf1"
      },
      "source": [
        "df.loc[df[\"content\"].notnull() & df[\"hashtag\"].notnull()].apply(lambda row: row[\"content\"]+\" \"+row[\"hashtag\"],axis=1)[97556]"
      ],
      "execution_count": null,
      "outputs": [
        {
          "output_type": "execute_result",
          "data": {
            "application/vnd.google.colaboratory.intrinsic+json": {
              "type": "string"
            },
            "text/plain": [
              "\"𖤐니트라THE편한슬리퍼⠀⠀니트랑 슬리퍼의 장점만을 모아모아!!⠀⠀탄탄한 니트구성으로 제작되어⠀⠀세상편안한 착화감으로 ‧˚₊*̥(* ⁰̷̴͈꒨⁰̷̴͈)‧˚₊*̥⠀⠀진짜 이건 강매하고픈 추천템이구요👍👍⠀⠀어느 옷에나 매치하기 좋은 데일리템이라⠀실용적으로 신을수있어 적극 추천드려요❤️⠀⠀⠀⠀𖤐공장에서 출고할 때 파스마다 나오는 바닥로고가 다르기에 촬영시 바닥로고를 삭제하였습니다.참고해주세요⠀⠀⠀➡️ 색상 : 블랙,베이지,카키⠀ ⠀ ⠀➡️ 사이즈 : 225,230,235,240,245⠀ 굽높이 : 7센치 볼-7.5센치 (235기준)⠀⠀ ⠀➡️ 가격 :2만원대⠀⠀⠀𖤐 바로배송1-2일 바배품절시예약배송 7-14일(주말제외 공휴일에따라 2-3일 더 소요될수있음)⠀⠀𖤐 구매링크는 프로필 하단에 있습니다⠀꼭! 공지사항 읽어주세요!(๑°ㅁ°๑)‼✧⠀⠀⠀⠀𖤐 모든문의는 댓글 or 오픈톡 or DM 주세용 ღ'ᴗ'ღ⠀⠀ #니트#슬리퍼#뒷굽#포인트𖤐#어쩜❤️\""
            ]
          },
          "metadata": {
            "tags": []
          },
          "execution_count": 82
        }
      ]
    },
    {
      "cell_type": "code",
      "metadata": {
        "id": "YPhMjdc1pzFA",
        "colab_type": "code",
        "colab": {}
      },
      "source": [
        "df.loc[df[\"content\"].notnull() & df[\"hashtag\"].notnull()].apply(lambda row: row[\"content\"]+\" \"+row[\"hashtag\"],axis=1).drop(97556).apply(okt.morphs).apply(lambda x: \",\".join(x)).to_csv(\"okt_tokenized.csv\",index=False)"
      ],
      "execution_count": null,
      "outputs": []
    },
    {
      "cell_type": "code",
      "metadata": {
        "id": "BzA_kI_MoAN-",
        "colab_type": "code",
        "colab": {
          "base_uri": "https://localhost:8080/",
          "height": 228
        },
        "outputId": "8c6df2bc-1ca9-4cc0-ba9b-2717ae9b6df1"
      },
      "source": [
        "pd.read_csv(\"/content/okt_tokens.csv\")[\"0\"]"
      ],
      "execution_count": null,
      "outputs": [
        {
          "output_type": "execute_result",
          "data": {
            "text/plain": [
              "0             #\n",
              "1             .\n",
              "2             이\n",
              "3             에\n",
              "4             을\n",
              "          ...  \n",
              "532556      019\n",
              "532557    반했답니다\n",
              "532558       컷진\n",
              "532559      아프쥬\n",
              "532560       DN\n",
              "Name: 0, Length: 532561, dtype: object"
            ]
          },
          "metadata": {
            "tags": []
          },
          "execution_count": 11
        }
      ]
    },
    {
      "cell_type": "code",
      "metadata": {
        "id": "p7j1O2gUrYWl",
        "colab_type": "code",
        "colab": {
          "base_uri": "https://localhost:8080/",
          "height": 34
        },
        "outputId": "d8305792-77fc-4a4b-f62f-af12f0952008"
      },
      "source": [
        "\"abc\".startswith(\"a\")"
      ],
      "execution_count": null,
      "outputs": [
        {
          "output_type": "execute_result",
          "data": {
            "text/plain": [
              "True"
            ]
          },
          "metadata": {
            "tags": []
          },
          "execution_count": 45
        }
      ]
    },
    {
      "cell_type": "code",
      "metadata": {
        "id": "W_FiV-_2qQ5D",
        "colab_type": "code",
        "colab": {
          "base_uri": "https://localhost:8080/",
          "height": 228
        },
        "outputId": "e4ca27d7-c64b-43bc-dd97-f090f5e18f7d"
      },
      "source": [
        "data=pd.read_csv(\"/content/okt_tokens.csv\")[\"0\"].apply(okt.pos)#.apply(lambda x:x[0])\n",
        "data"
      ],
      "execution_count": null,
      "outputs": [
        {
          "output_type": "execute_result",
          "data": {
            "text/plain": [
              "0           [(#, Punctuation)]\n",
              "1           [(., Punctuation)]\n",
              "2                  [(이, Noun)]\n",
              "3                  [(에, Josa)]\n",
              "4                  [(을, Josa)]\n",
              "                  ...         \n",
              "532775         [(019, Number)]\n",
              "532776    [(반했답니다, Adjective)]\n",
              "532777            [(컷진, Noun)]\n",
              "532778           [(아프쥬, Noun)]\n",
              "532779           [(DN, Alpha)]\n",
              "Name: 0, Length: 532780, dtype: object"
            ]
          },
          "metadata": {
            "tags": []
          },
          "execution_count": 7
        }
      ]
    },
    {
      "cell_type": "code",
      "metadata": {
        "id": "41pjkKMV2hwb",
        "colab_type": "code",
        "colab": {
          "base_uri": "https://localhost:8080/",
          "height": 228
        },
        "outputId": "2574067e-8fe3-472b-a645-bc1234f63b91"
      },
      "source": [
        "data=data[data.apply(lambda x:len(x))>=1].apply(lambda x:x[0])\n",
        "data"
      ],
      "execution_count": null,
      "outputs": [
        {
          "output_type": "execute_result",
          "data": {
            "text/plain": [
              "0           (#, Punctuation)\n",
              "1           (., Punctuation)\n",
              "2                  (이, Noun)\n",
              "3                  (에, Josa)\n",
              "4                  (을, Josa)\n",
              "                 ...        \n",
              "532775         (019, Number)\n",
              "532776    (반했답니다, Adjective)\n",
              "532777            (컷진, Noun)\n",
              "532778           (아프쥬, Noun)\n",
              "532779           (DN, Alpha)\n",
              "Name: 0, Length: 532230, dtype: object"
            ]
          },
          "metadata": {
            "tags": []
          },
          "execution_count": 37
        }
      ]
    },
    {
      "cell_type": "code",
      "metadata": {
        "id": "UvCGXlssf4HK",
        "colab_type": "code",
        "colab": {}
      },
      "source": [
        "data[data.apply(lambda x:(x[1]==\"Noun\")|(x[1]==\"Hashtag\"))].apply(lambda x:x[0]).to_csv(\"okt_tokens_noun.csv\")"
      ],
      "execution_count": null,
      "outputs": []
    },
    {
      "cell_type": "code",
      "metadata": {
        "id": "uTO9HzQ_5XEX",
        "colab_type": "code",
        "colab": {
          "base_uri": "https://localhost:8080/",
          "height": 404
        },
        "outputId": "efa73e0f-9182-4af2-ce08-fac92bfb0885"
      },
      "source": [
        "set(list(zip(*data.tolist()))[1])"
      ],
      "execution_count": null,
      "outputs": [
        {
          "output_type": "execute_result",
          "data": {
            "text/plain": [
              "{'Adjective',\n",
              " 'Adverb',\n",
              " 'Alpha',\n",
              " 'Conjunction',\n",
              " 'Determiner',\n",
              " 'Email',\n",
              " 'Eomi',\n",
              " 'Exclamation',\n",
              " 'Foreign',\n",
              " 'Hashtag',\n",
              " 'Josa',\n",
              " 'KoreanParticle',\n",
              " 'Modifier',\n",
              " 'Noun',\n",
              " 'Number',\n",
              " 'PreEomi',\n",
              " 'Punctuation',\n",
              " 'ScreenName',\n",
              " 'Suffix',\n",
              " 'URL',\n",
              " 'Verb',\n",
              " 'VerbPrefix'}"
            ]
          },
          "metadata": {
            "tags": []
          },
          "execution_count": 39
        }
      ]
    },
    {
      "cell_type": "code",
      "metadata": {
        "id": "X3pf-FeOAU38",
        "colab_type": "code",
        "colab": {
          "base_uri": "https://localhost:8080/",
          "height": 228
        },
        "outputId": "b92ad381-b94a-4629-9159-570ab829ccf1"
      },
      "source": [
        "data[data.apply(lambda x:x[1]=='Noun')]"
      ],
      "execution_count": null,
      "outputs": [
        {
          "output_type": "execute_result",
          "data": {
            "text/plain": [
              "2           (이, Noun)\n",
              "7           (은, Noun)\n",
              "10          (도, Noun)\n",
              "11          (의, Noun)\n",
              "16          (를, Noun)\n",
              "             ...     \n",
              "531965    (흐느적, Noun)\n",
              "531967     (번더, Noun)\n",
              "531969     (청끈, Noun)\n",
              "531973     (컷진, Noun)\n",
              "531974    (아프쥬, Noun)\n",
              "Name: 0, Length: 56143, dtype: object"
            ]
          },
          "metadata": {
            "tags": []
          },
          "execution_count": 184
        }
      ]
    },
    {
      "cell_type": "code",
      "metadata": {
        "id": "g9M49blG__9d",
        "colab_type": "code",
        "colab": {
          "base_uri": "https://localhost:8080/",
          "height": 228
        },
        "outputId": "3094cb86-21fa-482c-a676-ef2d477e35ba"
      },
      "source": [
        "data[data.apply(lambda x:x[1]=='Hashtag')]"
      ],
      "execution_count": null,
      "outputs": [
        {
          "output_type": "execute_result",
          "data": {
            "text/plain": [
              "49               (#일상, Hashtag)\n",
              "87            (#daily, Hashtag)\n",
              "99              (#좋아요, Hashtag)\n",
              "109             (#대학생, Hashtag)\n",
              "120              (#맞팔, Hashtag)\n",
              "                  ...          \n",
              "531926        (#내가꿈꾸는, Hashtag)\n",
              "531939    (#이제비는그만왔으면, Hashtag)\n",
              "531956       (#어려운말많음, Hashtag)\n",
              "531959        (#죽음이라는, Hashtag)\n",
              "531960        (#정혜신작가, Hashtag)\n",
              "Name: 0, Length: 187009, dtype: object"
            ]
          },
          "metadata": {
            "tags": []
          },
          "execution_count": 185
        }
      ]
    },
    {
      "cell_type": "code",
      "metadata": {
        "id": "cy33X_3KA83d",
        "colab_type": "code",
        "colab": {
          "base_uri": "https://localhost:8080/",
          "height": 228
        },
        "outputId": "63574fc8-22ac-4603-d04a-7d1c5a9f84d6"
      },
      "source": [
        "data[data.apply(lambda x:x[1]=='Eomi')]"
      ],
      "execution_count": null,
      "outputs": [
        {
          "output_type": "execute_result",
          "data": {
            "text/plain": [
              "602         (어, Eomi)\n",
              "2552       (는데, Eomi)\n",
              "8621        (러, Eomi)\n",
              "9133       (건데, Eomi)\n",
              "9420       (거야, Eomi)\n",
              "             ...     \n",
              "487681    (으라고, Eomi)\n",
              "487846     (게만, Eomi)\n",
              "491385    (라고도, Eomi)\n",
              "506447    (다가는, Eomi)\n",
              "528760    (라구요, Eomi)\n",
              "Name: 0, Length: 92, dtype: object"
            ]
          },
          "metadata": {
            "tags": []
          },
          "execution_count": 183
        }
      ]
    },
    {
      "cell_type": "code",
      "metadata": {
        "id": "V9c3e81GBGBp",
        "colab_type": "code",
        "colab": {}
      },
      "source": [
        ""
      ],
      "execution_count": null,
      "outputs": []
    }
  ]
}