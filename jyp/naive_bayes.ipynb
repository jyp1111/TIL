{
  "nbformat": 4,
  "nbformat_minor": 0,
  "metadata": {
    "colab": {
      "name": "naive_bayes.ipynb",
      "provenance": [],
      "collapsed_sections": [],
      "authorship_tag": "ABX9TyOs9/KyV+oY5KxkKu46pd3Y",
      "include_colab_link": true
    },
    "kernelspec": {
      "name": "python3",
      "display_name": "Python 3"
    }
  },
  "cells": [
    {
      "cell_type": "markdown",
      "metadata": {
        "id": "view-in-github",
        "colab_type": "text"
      },
      "source": [
        "<a href=\"https://colab.research.google.com/github/jyp1111/TIL/blob/master/jyp/naive_bayes.ipynb\" target=\"_parent\"><img src=\"https://colab.research.google.com/assets/colab-badge.svg\" alt=\"Open In Colab\"/></a>"
      ]
    },
    {
      "cell_type": "code",
      "metadata": {
        "id": "qewLQCviaC5i",
        "colab_type": "code",
        "colab": {}
      },
      "source": [
        "import pandas as pd\n",
        "import numpy as np"
      ],
      "execution_count": 1,
      "outputs": []
    },
    {
      "cell_type": "code",
      "metadata": {
        "id": "W8ysu4gFNSkg",
        "colab_type": "code",
        "colab": {}
      },
      "source": [
        "class naive_bayes:\n",
        "    def __init__(self):\n",
        "        self.X_train=None\n",
        "        self.y_train=None\n",
        "        self.tokens_ls=None\n",
        "        self.word_ls=None\n",
        "\n",
        "    def fit(self,X_train,y_train):\n",
        "        self.X_train=X_train\n",
        "        self.y_train=y_train\n",
        "        self.tokens_ls=[x.split() for x in self.X_train]\n",
        "        self.word_ls=list(set(sum(self.tokens_ls,[])))\n",
        "\n",
        "        temp_table=[]\n",
        "        temp2_table=[]\n",
        "\n",
        "        for i, tokens in enumerate(self.tokens_ls):\n",
        "            for word in tokens:\n",
        "                temp_table.append({\"word\":word,\"doc_cat\":i})\n",
        "\n",
        "        for i in range(len(self.word_ls)):\n",
        "            count_ls=np.zeros(len(set(self.y_train)))\n",
        "            for v in temp_table:\n",
        "                if v[\"word\"]==self.word_ls[i]:\n",
        "                    count_ls[self.y_train[v[\"doc_cat\"]]]+=1\n",
        "            temp2_table.append(count_ls)\n",
        "        return temp2_table\n",
        "\n",
        "    def score(self,k,doc):\n",
        "        copy_table=self.fit(self.X_train,self.y_train).copy()\n",
        "        word_ls_copy=self.word_ls.copy()\n",
        "\n",
        "        for word in doc.split():\n",
        "            if word not in word_ls_copy:\n",
        "                word_ls_copy.append(word)\n",
        "                copy_table.append(np.zeros(len(set(self.y_train))))\n",
        "\n",
        "        copy_table=np.array(copy_table)\n",
        "\n",
        "        log_prior=np.log(np.array(copy_table).sum(axis=0)/np.array(copy_table).sum())\n",
        "        log_likelyhood=np.log((copy_table+k)/(np.array(copy_table).sum(axis=0)+2*k))\n",
        "        probs=np.exp(log_likelyhood[[i for i,v in enumerate(word_ls_copy) if v in doc.split()]].sum(axis=0)+log_prior)\n",
        "        \n",
        "        return probs/probs.sum()\n",
        "\n",
        "    def predict(self,k,X_test):\n",
        "        return np.array([self.score(k,doc).argmax() for doc in X_test])"
      ],
      "execution_count": 6,
      "outputs": []
    },
    {
      "cell_type": "code",
      "metadata": {
        "id": "Lu0CIWh4bKG2",
        "colab_type": "code",
        "colab": {
          "base_uri": "https://localhost:8080/",
          "height": 235
        },
        "outputId": "930dc825-96ab-4a32-9d9c-785e82ff6aa5"
      },
      "source": [
        "data=pd.DataFrame({\"tokens\":[\"me free lottery\",\"free get free you\",\"you free scholarship\",\"free to contact me\",\"you won award\",\"you ticket lottery\"],\n",
        "    \"spam\":[1,1,0,0,0,1]})\n",
        "data"
      ],
      "execution_count": 3,
      "outputs": [
        {
          "output_type": "execute_result",
          "data": {
            "text/html": [
              "<div>\n",
              "<style scoped>\n",
              "    .dataframe tbody tr th:only-of-type {\n",
              "        vertical-align: middle;\n",
              "    }\n",
              "\n",
              "    .dataframe tbody tr th {\n",
              "        vertical-align: top;\n",
              "    }\n",
              "\n",
              "    .dataframe thead th {\n",
              "        text-align: right;\n",
              "    }\n",
              "</style>\n",
              "<table border=\"1\" class=\"dataframe\">\n",
              "  <thead>\n",
              "    <tr style=\"text-align: right;\">\n",
              "      <th></th>\n",
              "      <th>tokens</th>\n",
              "      <th>spam</th>\n",
              "    </tr>\n",
              "  </thead>\n",
              "  <tbody>\n",
              "    <tr>\n",
              "      <th>0</th>\n",
              "      <td>me free lottery</td>\n",
              "      <td>1</td>\n",
              "    </tr>\n",
              "    <tr>\n",
              "      <th>1</th>\n",
              "      <td>free get free you</td>\n",
              "      <td>1</td>\n",
              "    </tr>\n",
              "    <tr>\n",
              "      <th>2</th>\n",
              "      <td>you free scholarship</td>\n",
              "      <td>0</td>\n",
              "    </tr>\n",
              "    <tr>\n",
              "      <th>3</th>\n",
              "      <td>free to contact me</td>\n",
              "      <td>0</td>\n",
              "    </tr>\n",
              "    <tr>\n",
              "      <th>4</th>\n",
              "      <td>you won award</td>\n",
              "      <td>0</td>\n",
              "    </tr>\n",
              "    <tr>\n",
              "      <th>5</th>\n",
              "      <td>you ticket lottery</td>\n",
              "      <td>1</td>\n",
              "    </tr>\n",
              "  </tbody>\n",
              "</table>\n",
              "</div>"
            ],
            "text/plain": [
              "                 tokens  spam\n",
              "0       me free lottery     1\n",
              "1     free get free you     1\n",
              "2  you free scholarship     0\n",
              "3    free to contact me     0\n",
              "4         you won award     0\n",
              "5    you ticket lottery     1"
            ]
          },
          "metadata": {
            "tags": []
          },
          "execution_count": 3
        }
      ]
    },
    {
      "cell_type": "code",
      "metadata": {
        "id": "XkGTuof7bNBR",
        "colab_type": "code",
        "colab": {}
      },
      "source": [
        "X_train=data[\"tokens\"]\n",
        "y_train=data[\"spam\"]"
      ],
      "execution_count": 4,
      "outputs": []
    },
    {
      "cell_type": "code",
      "metadata": {
        "id": "YVESiCKNyJd0",
        "colab_type": "code",
        "colab": {
          "base_uri": "https://localhost:8080/",
          "height": 35
        },
        "outputId": "8194ecdd-4add-4889-d714-de8a0e2d8fa6"
      },
      "source": [
        "model=naive_bayes()\n",
        "model.fit(X_train,y_train)\n",
        "model.score(0.5,\"free lottery\")"
      ],
      "execution_count": 7,
      "outputs": [
        {
          "output_type": "execute_result",
          "data": {
            "text/plain": [
              "array([0.125, 0.875])"
            ]
          },
          "metadata": {
            "tags": []
          },
          "execution_count": 7
        }
      ]
    },
    {
      "cell_type": "code",
      "metadata": {
        "id": "eSWEkNuY6p8s",
        "colab_type": "code",
        "colab": {
          "base_uri": "https://localhost:8080/",
          "height": 35
        },
        "outputId": "c1c6dfb8-205c-42ba-936b-0739ca176e8c"
      },
      "source": [
        "model.score(0.5,\"free dksldkjf\")"
      ],
      "execution_count": 8,
      "outputs": [
        {
          "output_type": "execute_result",
          "data": {
            "text/plain": [
              "array([0.41666667, 0.58333333])"
            ]
          },
          "metadata": {
            "tags": []
          },
          "execution_count": 8
        }
      ]
    },
    {
      "cell_type": "code",
      "metadata": {
        "id": "o5_wjL7z6ySE",
        "colab_type": "code",
        "colab": {
          "base_uri": "https://localhost:8080/",
          "height": 35
        },
        "outputId": "4ae944eb-161d-4f74-f1ca-b584b478aac9"
      },
      "source": [
        "model.score(0.5,\"ghi we wefwe\")"
      ],
      "execution_count": 9,
      "outputs": [
        {
          "output_type": "execute_result",
          "data": {
            "text/plain": [
              "array([0.5, 0.5])"
            ]
          },
          "metadata": {
            "tags": []
          },
          "execution_count": 9
        }
      ]
    },
    {
      "cell_type": "code",
      "metadata": {
        "id": "bHAAwX83dV_h",
        "colab_type": "code",
        "colab": {
          "base_uri": "https://localhost:8080/",
          "height": 53
        },
        "outputId": "103166e3-ed17-4e8c-fa80-2fb296386afd"
      },
      "source": [
        "from sklearn.datasets import fetch_20newsgroups\n",
        "twenty_train=fetch_20newsgroups(subset=\"train\",shuffle=True)\n",
        "twenty_test=fetch_20newsgroups(subset=\"test\",shuffle=True)"
      ],
      "execution_count": 10,
      "outputs": [
        {
          "output_type": "stream",
          "text": [
            "Downloading 20news dataset. This may take a few minutes.\n",
            "Downloading dataset from https://ndownloader.figshare.com/files/5975967 (14 MB)\n"
          ],
          "name": "stderr"
        }
      ]
    },
    {
      "cell_type": "code",
      "metadata": {
        "id": "Cuw-7oaDdwhI",
        "colab_type": "code",
        "colab": {}
      },
      "source": [
        "X_train,y_train=twenty_train.data[:100],twenty_train.target[:100]\n",
        "X_test,y_test=twenty_test.data[:10],twenty_test.target[:10]"
      ],
      "execution_count": 11,
      "outputs": []
    },
    {
      "cell_type": "code",
      "metadata": {
        "id": "fcmCF-3ieI3t",
        "colab_type": "code",
        "colab": {
          "base_uri": "https://localhost:8080/",
          "height": 107
        },
        "outputId": "0e9c3e27-072d-4751-ee18-5969794a69e1"
      },
      "source": [
        "model=naive_bayes()\n",
        "model.fit(X_train,y_train)\n",
        "model.score(0.5,X_test[0])"
      ],
      "execution_count": 12,
      "outputs": [
        {
          "output_type": "execute_result",
          "data": {
            "text/plain": [
              "array([4.08645878e-36, 4.67311253e-32, 1.84596700e-30, 5.32540548e-17,\n",
              "       1.29803492e-20, 8.64589598e-13, 3.81217304e-18, 3.27257843e-42,\n",
              "       3.05942430e-20, 2.05501656e-14, 4.38908423e-09, 3.00200712e-18,\n",
              "       3.21204399e-24, 9.99999993e-01, 1.66407216e-51, 8.37337598e-10,\n",
              "       2.55110419e-32, 1.69468763e-61, 1.92226990e-09, 1.17552462e-10])"
            ]
          },
          "metadata": {
            "tags": []
          },
          "execution_count": 12
        }
      ]
    },
    {
      "cell_type": "code",
      "metadata": {
        "id": "wJCakjlkdNhg",
        "colab_type": "code",
        "colab": {
          "base_uri": "https://localhost:8080/",
          "height": 53
        },
        "outputId": "abc4ebee-6854-4be5-a300-04de1c423785"
      },
      "source": [
        "prediction=model.predict(0.5,X_test)\n",
        "prediction"
      ],
      "execution_count": 14,
      "outputs": [
        {
          "output_type": "stream",
          "text": [
            "/usr/local/lib/python3.6/dist-packages/ipykernel_launcher.py:44: RuntimeWarning: invalid value encountered in true_divide\n"
          ],
          "name": "stderr"
        },
        {
          "output_type": "execute_result",
          "data": {
            "text/plain": [
              "array([13,  0, 13,  0, 13,  0, 13, 13, 13, 13])"
            ]
          },
          "metadata": {
            "tags": []
          },
          "execution_count": 14
        }
      ]
    },
    {
      "cell_type": "code",
      "metadata": {
        "id": "bwm2m1hDboQo",
        "colab_type": "code",
        "colab": {
          "base_uri": "https://localhost:8080/",
          "height": 35
        },
        "outputId": "536a8875-f1a3-4777-e786-91b9bdb04d3b"
      },
      "source": [
        "(prediction==y_test).mean() #결과 처참........."
      ],
      "execution_count": 15,
      "outputs": [
        {
          "output_type": "execute_result",
          "data": {
            "text/plain": [
              "0.0"
            ]
          },
          "metadata": {
            "tags": []
          },
          "execution_count": 15
        }
      ]
    },
    {
      "cell_type": "code",
      "metadata": {
        "id": "LB0F2UC23q91",
        "colab_type": "code",
        "colab": {
          "base_uri": "https://localhost:8080/",
          "height": 35
        },
        "outputId": "93b51c95-2e02-448e-9f68-8ce5d7de9b45"
      },
      "source": [
        "from sklearn.pipeline import Pipeline\n",
        "from sklearn.feature_extraction.text import CountVectorizer\n",
        "from sklearn.feature_extraction.text import TfidfTransformer\n",
        "from sklearn.naive_bayes import MultinomialNB\n",
        "\n",
        "text_clf=Pipeline([(\"vect\",CountVectorizer()),\n",
        "                   (\"tfidf\",TfidfTransformer()),\n",
        "                   (\"clf\",MultinomialNB()),])\n",
        "text_clf=text_clf.fit(twenty_train.data[:100],twenty_train.target[:100])\n",
        "twenty_test=fetch_20newsgroups(subset=\"test\",shuffle=True)\n",
        "predicted=text_clf.predict(twenty_test.data[:10])\n",
        "np.mean(predicted==twenty_test.target[:10])"
      ],
      "execution_count": 16,
      "outputs": [
        {
          "output_type": "execute_result",
          "data": {
            "text/plain": [
              "0.1"
            ]
          },
          "metadata": {
            "tags": []
          },
          "execution_count": 16
        }
      ]
    },
    {
      "cell_type": "markdown",
      "metadata": {
        "id": "nINcdiG7hEUf",
        "colab_type": "text"
      },
      "source": [
        "다행히 sklearn도 결과가 그리 좋지 않아보임.. 텍스트가 복잡한것에 비해 데이터가 적어서 그런듯..."
      ]
    }
  ]
}