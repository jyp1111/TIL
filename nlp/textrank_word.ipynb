{
  "nbformat": 4,
  "nbformat_minor": 0,
  "metadata": {
    "colab": {
      "name": "textrank_word.ipynb",
      "provenance": [],
      "collapsed_sections": [],
      "authorship_tag": "ABX9TyNbAL94LQuQ2k7l8QhE0m6/",
      "include_colab_link": true
    },
    "kernelspec": {
      "name": "python3",
      "display_name": "Python 3"
    }
  },
  "cells": [
    {
      "cell_type": "markdown",
      "metadata": {
        "id": "view-in-github",
        "colab_type": "text"
      },
      "source": [
        "<a href=\"https://colab.research.google.com/github/jyp1111/TIL/blob/master/nlp/textrank_word.ipynb\" target=\"_parent\"><img src=\"https://colab.research.google.com/assets/colab-badge.svg\" alt=\"Open In Colab\"/></a>"
      ]
    },
    {
      "cell_type": "code",
      "metadata": {
        "id": "szx9kJnPTqjr",
        "colab_type": "code",
        "colab": {
          "base_uri": "https://localhost:8080/",
          "height": 598
        },
        "outputId": "26c44444-7d8c-4361-8573-82a7eb863471"
      },
      "source": [
        "!pip install konlpy"
      ],
      "execution_count": null,
      "outputs": [
        {
          "output_type": "stream",
          "text": [
            "Collecting konlpy\n",
            "\u001b[?25l  Downloading https://files.pythonhosted.org/packages/85/0e/f385566fec837c0b83f216b2da65db9997b35dd675e107752005b7d392b1/konlpy-0.5.2-py2.py3-none-any.whl (19.4MB)\n",
            "\u001b[K     |████████████████████████████████| 19.4MB 1.5MB/s \n",
            "\u001b[?25hCollecting beautifulsoup4==4.6.0\n",
            "\u001b[?25l  Downloading https://files.pythonhosted.org/packages/9e/d4/10f46e5cfac773e22707237bfcd51bbffeaf0a576b0a847ec7ab15bd7ace/beautifulsoup4-4.6.0-py3-none-any.whl (86kB)\n",
            "\u001b[K     |████████████████████████████████| 92kB 7.6MB/s \n",
            "\u001b[?25hCollecting colorama\n",
            "  Downloading https://files.pythonhosted.org/packages/c9/dc/45cdef1b4d119eb96316b3117e6d5708a08029992b2fee2c143c7a0a5cc5/colorama-0.4.3-py2.py3-none-any.whl\n",
            "Collecting tweepy>=3.7.0\n",
            "  Downloading https://files.pythonhosted.org/packages/bb/7c/99d51f80f3b77b107ebae2634108717362c059a41384a1810d13e2429a81/tweepy-3.9.0-py2.py3-none-any.whl\n",
            "Requirement already satisfied: lxml>=4.1.0 in /usr/local/lib/python3.6/dist-packages (from konlpy) (4.2.6)\n",
            "Collecting JPype1>=0.7.0\n",
            "\u001b[?25l  Downloading https://files.pythonhosted.org/packages/50/49/725710351d78d26c65337b1e3b322d7b27b34b704535ab56afc0d9ab0ffd/JPype1-1.0.1-cp36-cp36m-manylinux2010_x86_64.whl (3.8MB)\n",
            "\u001b[K     |████████████████████████████████| 3.8MB 37.8MB/s \n",
            "\u001b[?25hRequirement already satisfied: numpy>=1.6 in /usr/local/lib/python3.6/dist-packages (from konlpy) (1.18.5)\n",
            "Requirement already satisfied: six>=1.10.0 in /usr/local/lib/python3.6/dist-packages (from tweepy>=3.7.0->konlpy) (1.15.0)\n",
            "Requirement already satisfied: requests[socks]>=2.11.1 in /usr/local/lib/python3.6/dist-packages (from tweepy>=3.7.0->konlpy) (2.23.0)\n",
            "Requirement already satisfied: requests-oauthlib>=0.7.0 in /usr/local/lib/python3.6/dist-packages (from tweepy>=3.7.0->konlpy) (1.3.0)\n",
            "Requirement already satisfied: typing-extensions; python_version < \"3.8\" in /usr/local/lib/python3.6/dist-packages (from JPype1>=0.7.0->konlpy) (3.7.4.2)\n",
            "Requirement already satisfied: idna<3,>=2.5 in /usr/local/lib/python3.6/dist-packages (from requests[socks]>=2.11.1->tweepy>=3.7.0->konlpy) (2.10)\n",
            "Requirement already satisfied: urllib3!=1.25.0,!=1.25.1,<1.26,>=1.21.1 in /usr/local/lib/python3.6/dist-packages (from requests[socks]>=2.11.1->tweepy>=3.7.0->konlpy) (1.24.3)\n",
            "Requirement already satisfied: chardet<4,>=3.0.2 in /usr/local/lib/python3.6/dist-packages (from requests[socks]>=2.11.1->tweepy>=3.7.0->konlpy) (3.0.4)\n",
            "Requirement already satisfied: certifi>=2017.4.17 in /usr/local/lib/python3.6/dist-packages (from requests[socks]>=2.11.1->tweepy>=3.7.0->konlpy) (2020.6.20)\n",
            "Requirement already satisfied: PySocks!=1.5.7,>=1.5.6; extra == \"socks\" in /usr/local/lib/python3.6/dist-packages (from requests[socks]>=2.11.1->tweepy>=3.7.0->konlpy) (1.7.1)\n",
            "Requirement already satisfied: oauthlib>=3.0.0 in /usr/local/lib/python3.6/dist-packages (from requests-oauthlib>=0.7.0->tweepy>=3.7.0->konlpy) (3.1.0)\n",
            "Installing collected packages: beautifulsoup4, colorama, tweepy, JPype1, konlpy\n",
            "  Found existing installation: beautifulsoup4 4.6.3\n",
            "    Uninstalling beautifulsoup4-4.6.3:\n",
            "      Successfully uninstalled beautifulsoup4-4.6.3\n",
            "  Found existing installation: tweepy 3.6.0\n",
            "    Uninstalling tweepy-3.6.0:\n",
            "      Successfully uninstalled tweepy-3.6.0\n",
            "Successfully installed JPype1-1.0.1 beautifulsoup4-4.6.0 colorama-0.4.3 konlpy-0.5.2 tweepy-3.9.0\n"
          ],
          "name": "stdout"
        }
      ]
    },
    {
      "cell_type": "code",
      "metadata": {
        "id": "mIRxZaqtS6dj",
        "colab_type": "code",
        "colab": {}
      },
      "source": [
        "import numpy as np\n",
        "from itertools import permutations\n",
        "from konlpy.tag import Okt\n",
        "import requests\n",
        "from bs4 import BeautifulSoup"
      ],
      "execution_count": null,
      "outputs": []
    },
    {
      "cell_type": "code",
      "metadata": {
        "id": "34mNkqIdTVyW",
        "colab_type": "code",
        "colab": {}
      },
      "source": [
        "class textrank:    \n",
        "    def __init__(self,token_ls):\n",
        "        self.token_ls=token_ls\n",
        "        self.word_ls=list(set(self.token_ls))\n",
        "\n",
        "    def connected_matrix(self,windows_size):\n",
        "        n=len(self.word_ls)\n",
        "        Mat=np.zeros((n,n))\n",
        "\n",
        "        for v in permutations(range(len(self.token_ls)),2): \n",
        "            if abs(v[0]-v[1])<windows_size:\n",
        "                Mat[self.word_ls.index(self.token_ls[v[0]])][self.word_ls.index(self.token_ls[v[1]])]=1\n",
        "\n",
        "        result_Mat=np.array([v/sum(v) for v in Mat])\n",
        "\n",
        "        return result_Mat\n",
        "\n",
        "    def score(self,d,windows_size,num_epoch,threshold):\n",
        "        score=np.ones(len(self.word_ls))\n",
        " \n",
        "        for i in range(num_epoch):\n",
        "            new_score=(1-d)+np.dot(self.connected_matrix(windows_size).T,d*score)\n",
        "            if (np.abs(score-new_score)).mean()<threshold:\n",
        "                break\n",
        "            score=new_score\n",
        "\n",
        "        return new_score"
      ],
      "execution_count": null,
      "outputs": []
    },
    {
      "cell_type": "code",
      "metadata": {
        "id": "UImcEC9LTYsf",
        "colab_type": "code",
        "colab": {
          "base_uri": "https://localhost:8080/",
          "height": 34
        },
        "outputId": "9ff9085d-e193-4e0f-ec3d-bc1656d13775"
      },
      "source": [
        "L=[\"딸기\",\"바나나\",\"사과\",\"딸기\",\"파인애플\"]\n",
        "textrank(L).score(d=0.85,windows_size=2,num_epoch=20,threshold=0.001)"
      ],
      "execution_count": null,
      "outputs": [
        {
          "output_type": "execute_result",
          "data": {
            "text/plain": [
              "array([1.46623101, 0.98390456, 0.98390456, 0.56595988])"
            ]
          },
          "metadata": {
            "tags": []
          },
          "execution_count": 4
        }
      ]
    },
    {
      "cell_type": "code",
      "metadata": {
        "id": "mOs3D0N7Tvi6",
        "colab_type": "code",
        "colab": {}
      },
      "source": [
        "def make_word_ls(url):\n",
        "    res=requests.get(url)\n",
        "    soup=BeautifulSoup(res.text,\"html.parser\")\n",
        "    result=soup.select_one(\"#articleBodyContents\")\n",
        "    result_text=result.text.replace(\"\\n\",\"\").replace(\"\\t\",\"\").replace(\"function _flash_removeCallback() {}\",\"\").replace(\"// flash 오류를 우회하기 위한 함수 추가\",\"\")\n",
        "    for x in result.select(\"a\"):\n",
        "        result_text=result_text.replace(x.text,\"\")\n",
        "    result_text=result_text.replace(\"▶\",\"\").replace(\"무단 전재 및 재배포 금지\",\"\")\n",
        "    \n",
        "    okt= Okt()\n",
        "    okt_tokens = okt.morphs(result_text)\n",
        "    oktTag=sum([okt.pos(token) for token in okt_tokens],[])\n",
        "\n",
        "    stopPos=[\"Punctuation\",\"Josa\",\"Foreign\",\"Adverb\",\"URL\",\"Verb\",\"Conjunction\"]\n",
        "\n",
        "    keyword_ls = [tag[0] for tag in oktTag if (tag[1] not in stopPos) and (len(tag[0])>1)]\n",
        "\n",
        "    word_ls = [tag[0] for tag in oktTag if tag[1] not in stopPos]\n",
        "\n",
        "    remove_index_ls=sorted(list(set([i for i,tag in enumerate(oktTag) if tag[1] in stopPos]+[0,len(oktTag)])))\n",
        "    words_ls=[[tag[0] for tag in oktTag[remove_index_ls[i]:remove_index_ls[i+1]] if tag[1] not in stopPos] \n",
        "              for i in range(len(remove_index_ls)-1) if remove_index_ls[i+1]-remove_index_ls[i]>1]\n",
        "\n",
        "    return keyword_ls,word_ls,words_ls\n",
        "\n",
        "def keyword_recommand(url,num,d,windows_size,num_epoch,threshold):\n",
        "    keyword_ls,_,_=make_word_ls(url)\n",
        "\n",
        "    score=textrank(keyword_ls).score(d,windows_size,num_epoch,threshold)\n",
        "    sorted_word_ls=sorted(textrank(keyword_ls).word_ls, key=lambda word: score[textrank(keyword_ls).word_ls.index(word)],reverse=True)\n",
        "\n",
        "    return sorted_word_ls[:num]\n",
        "\n",
        "def words_recommand(url,num,d,windows_size,num_epoch,threshold):\n",
        "    _,word_ls,words_ls=make_word_ls(url)\n",
        "\n",
        "    score=textrank(word_ls).score(d,windows_size,num_epoch,threshold)\n",
        "    score_ls=[sum([score[textrank(word_ls).word_ls.index(word)] for word in words]) for words in words_ls]\n",
        "    sorted_words_ls=sorted(words_ls, key=lambda words: score_ls[words_ls.index(words)],reverse=True)\n",
        "\n",
        "    return sorted_words_ls[:num]"
      ],
      "execution_count": null,
      "outputs": []
    },
    {
      "cell_type": "code",
      "metadata": {
        "id": "lCN4nugHTyst",
        "colab_type": "code",
        "colab": {
          "base_uri": "https://localhost:8080/",
          "height": 34
        },
        "outputId": "04026522-aae2-4eda-e3ef-39c4afde3709"
      },
      "source": [
        "url=\"https://news.naver.com/main/read.nhn?mode=LSD&mid=shm&sid1=103&oid=025&aid=0003018110\"\n",
        "keyword_recommand(url=url,num=5,d=0.85,windows_size=3,num_epoch=20,threshold=0.001)"
      ],
      "execution_count": null,
      "outputs": [
        {
          "output_type": "execute_result",
          "data": {
            "text/plain": [
              "['해신', '재료', '불도장', '음식', '이름']"
            ]
          },
          "metadata": {
            "tags": []
          },
          "execution_count": 6
        }
      ]
    },
    {
      "cell_type": "code",
      "metadata": {
        "id": "LMQOryz_T5Mv",
        "colab_type": "code",
        "colab": {
          "base_uri": "https://localhost:8080/",
          "height": 439
        },
        "outputId": "325c9dcd-1444-454e-f918-9991beaf6f78"
      },
      "source": [
        "words_recommand(url=url,num=10,d=0.85,windows_size=3,num_epoch=20,threshold=0.001)"
      ],
      "execution_count": null,
      "outputs": [
        {
          "output_type": "execute_result",
          "data": {
            "text/plain": [
              "[['12',\n",
              "  '종류',\n",
              "  '의',\n",
              "  '부',\n",
              "  '재료',\n",
              "  '를',\n",
              "  '포함',\n",
              "  '해',\n",
              "  '총',\n",
              "  '30',\n",
              "  '여',\n",
              "  '종',\n",
              "  '의',\n",
              "  '식',\n",
              "  '재료'],\n",
              " ['각', '재료', '의', '맛', '과', '영양', '이', '충분히', '우러날', '수', '있다'],\n",
              " ['이', '곳', '의', '김성', '완', '조리', '장', '은', '2005년', '여름', '드라마'],\n",
              " ['그', '중', '가장', '대중', '적', '인', '삼계탕', '은', '열량', '이', '풍부한', '고기'],\n",
              " ['수', '있는', '식', '재료', '중', '영양', '이', '가장', '풍부한', '낙지'],\n",
              " ['대부분', '의', '전통', '보양식', '이', '식', '재료'],\n",
              " ['예', '부터', '복날', '이면', '그', '해', '의', '더위', '를', '물리'],\n",
              " ['송이버섯', '등', '의', '식', '재료', '를', '메인'],\n",
              " ['은', '제철', '식', '재료', '를', '이용', '해', '조선시대', '사대부', '요리'],\n",
              " ['위해', '7~8월', '두', '달', '동안', '투숙', '객', '이', '해신', '탕']]"
            ]
          },
          "metadata": {
            "tags": []
          },
          "execution_count": 7
        }
      ]
    },
    {
      "cell_type": "code",
      "metadata": {
        "id": "2QdyiqoWrdCe",
        "colab_type": "code",
        "colab": {}
      },
      "source": [
        ""
      ],
      "execution_count": null,
      "outputs": []
    }
  ]
}