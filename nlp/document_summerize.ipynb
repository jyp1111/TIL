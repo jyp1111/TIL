{
  "nbformat": 4,
  "nbformat_minor": 0,
  "metadata": {
    "colab": {
      "name": "document_summerize.ipynb",
      "provenance": [],
      "authorship_tag": "ABX9TyPOTo4VSoMm5hR7KR4c8HfR",
      "include_colab_link": true
    },
    "kernelspec": {
      "name": "python3",
      "display_name": "Python 3"
    }
  },
  "cells": [
    {
      "cell_type": "markdown",
      "metadata": {
        "id": "view-in-github",
        "colab_type": "text"
      },
      "source": [
        "<a href=\"https://colab.research.google.com/github/jyp1111/TIL/blob/master/nlp/document_summerize.ipynb\" target=\"_parent\"><img src=\"https://colab.research.google.com/assets/colab-badge.svg\" alt=\"Open In Colab\"/></a>"
      ]
    },
    {
      "cell_type": "code",
      "metadata": {
        "id": "ZtEwN2sZz2Uc",
        "colab_type": "code",
        "colab": {}
      },
      "source": [
        "import pandas as pd\n",
        "from itertools import permutations\n",
        "import numpy as np"
      ],
      "execution_count": null,
      "outputs": []
    },
    {
      "cell_type": "code",
      "metadata": {
        "id": "Oyst8MA7z65q",
        "colab_type": "code",
        "colab": {}
      },
      "source": [
        "class textrank_sen_1:    \n",
        "    def __init__(self,document):\n",
        "        self.document=document\n",
        "    def sen_ls(self):\n",
        "        L_sen=self.document.split(\". \")\n",
        "        L_sen[-1]=L_sen[-1].strip(\".\")\n",
        "        L_sen_token_ls=[x.split() for x in L_sen]\n",
        "\n",
        "        return L_sen_token_ls\n",
        "\n",
        "    def connected_matrix(self):\n",
        "        m=len(self.sen_ls())\n",
        "        Mat=np.zeros((m,m))\n",
        "\n",
        "        for v in list(permutations(range(m),2)):\n",
        "            Mat[v[0]][v[1]]=len(set(self.sen_ls()[v[0]]).intersection(set(self.sen_ls()[v[1]])))/len(set(self.sen_ls()[v[0]]).union(set(self.sen_ls()[v[1]])))\n",
        "            \n",
        "        result_Mat=np.array([Mat[i]/sum(Mat[i]) for i,_ in enumerate(Mat)])\n",
        "\n",
        "        return result_Mat\n",
        "\n",
        "    def score(self,d,num_epoch,threshold):\n",
        "        m=len(self.sen_ls())\n",
        "        # score=np.ones(m)*10\n",
        "        score=np.random.randint(1,100,size=m)\n",
        "        table=[]\n",
        "        for i in range(num_epoch):\n",
        "            new_score=(1-d)+np.dot(self.connected_matrix().T,d*score)\n",
        "            if (np.abs(score-new_score)).mean()<threshold:\n",
        "                break\n",
        "            score=new_score\n",
        "        for i,x in enumerate(self.sen_ls()):\n",
        "            sen=' '.join(x)\n",
        "            table.append({\"sentence\":sen,\"score\":new_score[i]})\n",
        "        table=pd.DataFrame(table)\n",
        "        return table\n",
        "    \n",
        "    def ideal_score(self,d): # inverse 계산이 원래는 힘들기 때문에 이론상 함수\n",
        "        m=len(self.sen_ls())\n",
        "        ideal_score=np.dot(np.linalg.inv(np.identity(m)-self.connected_matrix().T*d)*(1-d),np.ones(m))\n",
        "\n",
        "        table=[]\n",
        "        for i,x in enumerate(self.sen_ls()):\n",
        "            sen=' '.join(x)\n",
        "            table.append({\"sentence\":sen,\"score\":ideal_score[i]})\n",
        "        table=pd.DataFrame(table)\n",
        "\n",
        "        return table\n"
      ],
      "execution_count": null,
      "outputs": []
    },
    {
      "cell_type": "code",
      "metadata": {
        "id": "5GyicPa1Hfyx",
        "colab_type": "code",
        "colab": {}
      },
      "source": [
        "document=\"딸기 바나나 사과 파인애플 수박. 바나나 사과 딸기 포도. 복숭아 수박. 파인애플 사과 딸기 바나나.\""
      ],
      "execution_count": null,
      "outputs": []
    },
    {
      "cell_type": "code",
      "metadata": {
        "id": "4QLJBtT6sNZS",
        "colab_type": "code",
        "colab": {
          "base_uri": "https://localhost:8080/",
          "height": 173
        },
        "outputId": "a72f1a3c-a71b-4172-9061-70ed3f0d4554"
      },
      "source": [
        "textrank_sen_1(document).score(d=0.85,num_epoch=1000,threshold=0.0001)"
      ],
      "execution_count": null,
      "outputs": [
        {
          "output_type": "execute_result",
          "data": {
            "text/html": [
              "<div>\n",
              "<style scoped>\n",
              "    .dataframe tbody tr th:only-of-type {\n",
              "        vertical-align: middle;\n",
              "    }\n",
              "\n",
              "    .dataframe tbody tr th {\n",
              "        vertical-align: top;\n",
              "    }\n",
              "\n",
              "    .dataframe thead th {\n",
              "        text-align: right;\n",
              "    }\n",
              "</style>\n",
              "<table border=\"1\" class=\"dataframe\">\n",
              "  <thead>\n",
              "    <tr style=\"text-align: right;\">\n",
              "      <th></th>\n",
              "      <th>sentence</th>\n",
              "      <th>score</th>\n",
              "    </tr>\n",
              "  </thead>\n",
              "  <tbody>\n",
              "    <tr>\n",
              "      <th>0</th>\n",
              "      <td>딸기 바나나 사과 파인애플 수박</td>\n",
              "      <td>1.411038</td>\n",
              "    </tr>\n",
              "    <tr>\n",
              "      <th>1</th>\n",
              "      <td>바나나 사과 딸기 포도</td>\n",
              "      <td>1.025095</td>\n",
              "    </tr>\n",
              "    <tr>\n",
              "      <th>2</th>\n",
              "      <td>복숭아 수박</td>\n",
              "      <td>0.286306</td>\n",
              "    </tr>\n",
              "    <tr>\n",
              "      <th>3</th>\n",
              "      <td>파인애플 사과 딸기 바나나</td>\n",
              "      <td>1.279582</td>\n",
              "    </tr>\n",
              "  </tbody>\n",
              "</table>\n",
              "</div>"
            ],
            "text/plain": [
              "            sentence     score\n",
              "0  딸기 바나나 사과 파인애플 수박  1.411038\n",
              "1       바나나 사과 딸기 포도  1.025095\n",
              "2             복숭아 수박  0.286306\n",
              "3     파인애플 사과 딸기 바나나  1.279582"
            ]
          },
          "metadata": {
            "tags": []
          },
          "execution_count": 21
        }
      ]
    },
    {
      "cell_type": "code",
      "metadata": {
        "id": "JSdt1_UPsjcj",
        "colab_type": "code",
        "colab": {
          "base_uri": "https://localhost:8080/",
          "height": 173
        },
        "outputId": "340a9a24-08e6-42c0-eb45-8b1f4fbe7050"
      },
      "source": [
        "textrank_sen_1(document).ideal_score(d=0.85)"
      ],
      "execution_count": null,
      "outputs": [
        {
          "output_type": "execute_result",
          "data": {
            "text/html": [
              "<div>\n",
              "<style scoped>\n",
              "    .dataframe tbody tr th:only-of-type {\n",
              "        vertical-align: middle;\n",
              "    }\n",
              "\n",
              "    .dataframe tbody tr th {\n",
              "        vertical-align: top;\n",
              "    }\n",
              "\n",
              "    .dataframe thead th {\n",
              "        text-align: right;\n",
              "    }\n",
              "</style>\n",
              "<table border=\"1\" class=\"dataframe\">\n",
              "  <thead>\n",
              "    <tr style=\"text-align: right;\">\n",
              "      <th></th>\n",
              "      <th>sentence</th>\n",
              "      <th>score</th>\n",
              "    </tr>\n",
              "  </thead>\n",
              "  <tbody>\n",
              "    <tr>\n",
              "      <th>0</th>\n",
              "      <td>딸기 바나나 사과 파인애플 수박</td>\n",
              "      <td>1.410321</td>\n",
              "    </tr>\n",
              "    <tr>\n",
              "      <th>1</th>\n",
              "      <td>바나나 사과 딸기 포도</td>\n",
              "      <td>1.024557</td>\n",
              "    </tr>\n",
              "    <tr>\n",
              "      <th>2</th>\n",
              "      <td>복숭아 수박</td>\n",
              "      <td>0.286224</td>\n",
              "    </tr>\n",
              "    <tr>\n",
              "      <th>3</th>\n",
              "      <td>파인애플 사과 딸기 바나나</td>\n",
              "      <td>1.278898</td>\n",
              "    </tr>\n",
              "  </tbody>\n",
              "</table>\n",
              "</div>"
            ],
            "text/plain": [
              "            sentence     score\n",
              "0  딸기 바나나 사과 파인애플 수박  1.410321\n",
              "1       바나나 사과 딸기 포도  1.024557\n",
              "2             복숭아 수박  0.286224\n",
              "3     파인애플 사과 딸기 바나나  1.278898"
            ]
          },
          "metadata": {
            "tags": []
          },
          "execution_count": 22
        }
      ]
    },
    {
      "cell_type": "code",
      "metadata": {
        "id": "Sv8zeXyrt-Kv",
        "colab_type": "code",
        "colab": {}
      },
      "source": [
        ""
      ],
      "execution_count": null,
      "outputs": []
    }
  ]
}