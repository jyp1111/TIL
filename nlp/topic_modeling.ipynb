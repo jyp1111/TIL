{
  "nbformat": 4,
  "nbformat_minor": 0,
  "metadata": {
    "colab": {
      "name": "topic_modeling.ipynb",
      "provenance": [],
      "authorship_tag": "ABX9TyOeDcbgyb1+pccx1XLHziPh",
      "include_colab_link": true
    },
    "kernelspec": {
      "name": "python3",
      "display_name": "Python 3"
    }
  },
  "cells": [
    {
      "cell_type": "markdown",
      "metadata": {
        "id": "view-in-github",
        "colab_type": "text"
      },
      "source": [
        "<a href=\"https://colab.research.google.com/github/jyp1111/TIL/blob/master/nlp/topic_modeling.ipynb\" target=\"_parent\"><img src=\"https://colab.research.google.com/assets/colab-badge.svg\" alt=\"Open In Colab\"/></a>"
      ]
    },
    {
      "cell_type": "code",
      "metadata": {
        "id": "ISwvrHyg-YGt",
        "colab_type": "code",
        "colab": {}
      },
      "source": [
        "from sklearn.feature_extraction.text import CountVectorizer\n",
        "from sklearn.decomposition import randomized_svd\n",
        "class LSA:\n",
        "    def __init__(self,doc_ls,topic_num):\n",
        "        self.doc_ls=doc_ls\n",
        "        self.topic_num=topic_num\n",
        "    def lsa(self,num):\n",
        "        countvec=CountVectorizer()\n",
        "        tdm=countvec.fit_transform(doc_ls).toarray()\n",
        "        word_ls=countvec.get_feature_names()\n",
        "\n",
        "        _, _, VT = randomized_svd(tdm,n_components=self.topic_num,n_iter=10,random_state=None)\n",
        "\n",
        "        index_ls=[list(reversed(np.argsort(x)))[:num] for x in VT[:n]]\n",
        "\n",
        "        return [[(word_ls[j],VT[:n][i][j]) for j in index_ls[i]] for i,_ in enumerate(index_ls)]"
      ],
      "execution_count": null,
      "outputs": []
    },
    {
      "cell_type": "code",
      "metadata": {
        "id": "xbwc2XujrLUE",
        "colab_type": "code",
        "colab": {}
      },
      "source": [
        "doc_ls=[\"바나나 사과 포도 포도 짜장면\",\n",
        "        \"사과 포도\",\n",
        "        \"포도 바나나\",\n",
        "        \"짜장면 짬뽕 탕수육\",\n",
        "        \"볶음밥 탕수육\",\n",
        "        \"짜장면 짬뽕\",\n",
        "        \"라면 스시\",\n",
        "        \"스시 짜장면\",\n",
        "        \"가츠동 스시 소바\",\n",
        "        \"된장찌개 김치찌개 김치\",\n",
        "        \"김치 된장 짜장면\",\n",
        "        \"비빔밥 김치\"]"
      ],
      "execution_count": null,
      "outputs": []
    },
    {
      "cell_type": "code",
      "metadata": {
        "id": "ItAQ0BZHX0hT",
        "colab_type": "code",
        "colab": {
          "base_uri": "https://localhost:8080/",
          "height": 233
        },
        "outputId": "0b3f81f9-d902-4a44-c494-0b1b51ef2616"
      },
      "source": [
        "LSA(doc_ls,4).lsa(3)"
      ],
      "execution_count": null,
      "outputs": [
        {
          "output_type": "execute_result",
          "data": {
            "text/plain": [
              "[[('포도', 0.6968625387988908),\n",
              "  ('짜장면', 0.4856344888220905),\n",
              "  ('바나나', 0.34843126939944546)],\n",
              " [('짜장면', 0.5841558837852063),\n",
              "  ('짬뽕', 0.35555569681875954),\n",
              "  ('김치', 0.33700147191297813)],\n",
              " [('김치', 0.6109035277294154),\n",
              "  ('된장찌개', 0.26439784919518),\n",
              "  ('김치찌개', 0.26439784919517995)],\n",
              " [('스시', 0.552388449634678),\n",
              "  ('김치', 0.37136541740505213),\n",
              "  ('소바', 0.2766984641841571)]]"
            ]
          },
          "metadata": {
            "tags": []
          },
          "execution_count": 73
        }
      ]
    },
    {
      "cell_type": "code",
      "metadata": {
        "id": "eD8UB35fphHS",
        "colab_type": "code",
        "colab": {}
      },
      "source": [
        ""
      ],
      "execution_count": null,
      "outputs": []
    }
  ]
}