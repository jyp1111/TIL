{
  "nbformat": 4,
  "nbformat_minor": 0,
  "metadata": {
    "colab": {
      "name": "TDM.ipynb",
      "provenance": [],
      "collapsed_sections": [],
      "authorship_tag": "ABX9TyNAf83wsd/HeGBOT02lvsMM",
      "include_colab_link": true
    },
    "kernelspec": {
      "name": "python3",
      "display_name": "Python 3"
    }
  },
  "cells": [
    {
      "cell_type": "markdown",
      "metadata": {
        "id": "view-in-github",
        "colab_type": "text"
      },
      "source": [
        "<a href=\"https://colab.research.google.com/github/jyp1111/TIL/blob/master/nlp/TDM.ipynb\" target=\"_parent\"><img src=\"https://colab.research.google.com/assets/colab-badge.svg\" alt=\"Open In Colab\"/></a>"
      ]
    },
    {
      "cell_type": "code",
      "metadata": {
        "id": "VwQIP7L6nf0Y",
        "colab_type": "code",
        "colab": {}
      },
      "source": [
        "import numpy as np\n",
        "from collections import Counter"
      ],
      "execution_count": null,
      "outputs": []
    },
    {
      "cell_type": "code",
      "metadata": {
        "id": "GXYLKjJzoTJD",
        "colab_type": "code",
        "colab": {}
      },
      "source": [
        "class TDM:\n",
        "    def __init__(self,docs):\n",
        "        self.docs=docs\n",
        "    def tdm_matrix(self):\n",
        "        word_ls=list(set(sum([doc.split() for doc in self.docs],[])))\n",
        "        return np.array([[Counter(doc.split())[word] for word in word_ls] for doc in self.docs])"
      ],
      "execution_count": null,
      "outputs": []
    },
    {
      "cell_type": "code",
      "metadata": {
        "id": "e3764Pw7sWM4",
        "colab_type": "code",
        "colab": {}
      },
      "source": [
        "doc1=\"동물원 코끼리\"\n",
        "doc2=\"동물원 원숭이 바나나\"\n",
        "doc3=\"엄마 코끼리 아기 코끼리\"\n",
        "doc4=\"원숭이 바나나 코끼리 바나나\"\n",
        "docs=[doc1,doc2,doc3,doc4]"
      ],
      "execution_count": null,
      "outputs": []
    },
    {
      "cell_type": "code",
      "metadata": {
        "id": "m3W20Go5p2rY",
        "colab_type": "code",
        "colab": {
          "base_uri": "https://localhost:8080/",
          "height": 89
        },
        "outputId": "929b657b-f920-4a59-9085-951ea6939dbd"
      },
      "source": [
        "TDM(docs).tdm_matrix()"
      ],
      "execution_count": null,
      "outputs": [
        {
          "output_type": "execute_result",
          "data": {
            "text/plain": [
              "array([[1, 0, 0, 0, 1, 0],\n",
              "       [1, 1, 1, 0, 0, 0],\n",
              "       [0, 0, 0, 1, 2, 1],\n",
              "       [0, 2, 1, 0, 1, 0]])"
            ]
          },
          "metadata": {
            "tags": []
          },
          "execution_count": 4
        }
      ]
    },
    {
      "cell_type": "code",
      "metadata": {
        "id": "KUjUNpy7sg-t",
        "colab_type": "code",
        "colab": {}
      },
      "source": [
        ""
      ],
      "execution_count": null,
      "outputs": []
    }
  ]
}