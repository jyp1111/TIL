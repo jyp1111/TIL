{
  "nbformat": 4,
  "nbformat_minor": 0,
  "metadata": {
    "colab": {
      "name": "CBoW.ipynb",
      "provenance": [],
      "authorship_tag": "ABX9TyOu38IasjfUKvfNSY9yTlC/",
      "include_colab_link": true
    },
    "kernelspec": {
      "name": "python3",
      "display_name": "Python 3"
    }
  },
  "cells": [
    {
      "cell_type": "markdown",
      "metadata": {
        "id": "view-in-github",
        "colab_type": "text"
      },
      "source": [
        "<a href=\"https://colab.research.google.com/github/jyp1111/TIL/blob/master/nlp/CBoW.ipynb\" target=\"_parent\"><img src=\"https://colab.research.google.com/assets/colab-badge.svg\" alt=\"Open In Colab\"/></a>"
      ]
    },
    {
      "cell_type": "code",
      "metadata": {
        "id": "pq23xDAx8HiO",
        "colab_type": "code",
        "colab": {}
      },
      "source": [
        "import numpy as np"
      ],
      "execution_count": null,
      "outputs": []
    },
    {
      "cell_type": "code",
      "metadata": {
        "id": "BVz_QWbF8HuU",
        "colab_type": "code",
        "colab": {}
      },
      "source": [
        "class cbow:\n",
        "    def __init__(self,token_ls):\n",
        "        self.token_ls=token_ls\n",
        "        self.word_ls=sorted(list(set(self.token_ls)))\n",
        "\n",
        "    def connected_token(self,token,window_size):\n",
        "        token_index_ls=[i for i,v in enumerate(self.token_ls) if v==token]\n",
        "        return_set={self.word_ls.index(v) for i,v in enumerate(self.token_ls) for j in token_index_ls if abs(i-j)<=window_size}-{self.word_ls.index(token)}\n",
        "        return sorted(list(return_set))"
      ],
      "execution_count": null,
      "outputs": []
    },
    {
      "cell_type": "code",
      "metadata": {
        "id": "d9bOO5b9-SLg",
        "colab_type": "code",
        "colab": {
          "base_uri": "https://localhost:8080/",
          "height": 35
        },
        "outputId": "1434e635-97d9-487e-cdd0-5f02afc69850"
      },
      "source": [
        "doc=\"you will never know unitl you try\"\n",
        "L=doc.split()\n",
        "L"
      ],
      "execution_count": null,
      "outputs": [
        {
          "output_type": "execute_result",
          "data": {
            "text/plain": [
              "['you', 'will', 'never', 'know', 'unitl', 'you', 'try']"
            ]
          },
          "metadata": {
            "tags": []
          },
          "execution_count": 11
        }
      ]
    },
    {
      "cell_type": "code",
      "metadata": {
        "id": "_EeXXXCMYGFY",
        "colab_type": "code",
        "colab": {
          "base_uri": "https://localhost:8080/",
          "height": 413
        },
        "outputId": "013c196a-2546-4392-d662-470ff963a80f"
      },
      "source": [
        "X"
      ],
      "execution_count": null,
      "outputs": [
        {
          "output_type": "execute_result",
          "data": {
            "text/plain": [
              "array([[0., 1., 0., 0., 0., 0.],\n",
              "       [0., 0., 0., 1., 0., 0.],\n",
              "       [0., 0., 0., 0., 1., 0.],\n",
              "       [0., 0., 0., 0., 0., 1.],\n",
              "       [1., 0., 0., 0., 0., 0.],\n",
              "       [0., 0., 0., 1., 0., 0.],\n",
              "       [0., 0., 0., 0., 1., 0.],\n",
              "       [0., 0., 0., 0., 0., 1.],\n",
              "       [0., 0., 0., 1., 0., 0.],\n",
              "       [0., 0., 0., 0., 0., 1.],\n",
              "       [1., 0., 0., 0., 0., 0.],\n",
              "       [0., 1., 0., 0., 0., 0.],\n",
              "       [0., 0., 1., 0., 0., 0.],\n",
              "       [0., 0., 0., 0., 0., 1.],\n",
              "       [1., 0., 0., 0., 0., 0.],\n",
              "       [0., 1., 0., 0., 0., 0.],\n",
              "       [0., 0., 0., 0., 0., 1.],\n",
              "       [1., 0., 0., 0., 0., 0.],\n",
              "       [0., 1., 0., 0., 0., 0.],\n",
              "       [0., 0., 1., 0., 0., 0.],\n",
              "       [0., 0., 0., 1., 0., 0.],\n",
              "       [0., 0., 0., 0., 1., 0.]])"
            ]
          },
          "metadata": {
            "tags": []
          },
          "execution_count": 43
        }
      ]
    },
    {
      "cell_type": "code",
      "metadata": {
        "id": "mSG_l6XCYIdV",
        "colab_type": "code",
        "colab": {
          "base_uri": "https://localhost:8080/",
          "height": 413
        },
        "outputId": "054e1b27-d670-4750-c791-3837d82da382"
      },
      "source": [
        "y"
      ],
      "execution_count": null,
      "outputs": [
        {
          "output_type": "execute_result",
          "data": {
            "text/plain": [
              "array([[1., 0., 0., 0., 0., 0.],\n",
              "       [1., 0., 0., 0., 0., 0.],\n",
              "       [1., 0., 0., 0., 0., 0.],\n",
              "       [1., 0., 0., 0., 0., 0.],\n",
              "       [0., 1., 0., 0., 0., 0.],\n",
              "       [0., 1., 0., 0., 0., 0.],\n",
              "       [0., 1., 0., 0., 0., 0.],\n",
              "       [0., 1., 0., 0., 0., 0.],\n",
              "       [0., 0., 1., 0., 0., 0.],\n",
              "       [0., 0., 1., 0., 0., 0.],\n",
              "       [0., 0., 0., 1., 0., 0.],\n",
              "       [0., 0., 0., 1., 0., 0.],\n",
              "       [0., 0., 0., 1., 0., 0.],\n",
              "       [0., 0., 0., 1., 0., 0.],\n",
              "       [0., 0., 0., 0., 1., 0.],\n",
              "       [0., 0., 0., 0., 1., 0.],\n",
              "       [0., 0., 0., 0., 1., 0.],\n",
              "       [0., 0., 0., 0., 0., 1.],\n",
              "       [0., 0., 0., 0., 0., 1.],\n",
              "       [0., 0., 0., 0., 0., 1.],\n",
              "       [0., 0., 0., 0., 0., 1.],\n",
              "       [0., 0., 0., 0., 0., 1.]])"
            ]
          },
          "metadata": {
            "tags": []
          },
          "execution_count": 46
        }
      ]
    },
    {
      "cell_type": "code",
      "metadata": {
        "id": "ga87NddY8H29",
        "colab_type": "code",
        "colab": {}
      },
      "source": [
        "n=len(cbow(L).word_ls)\n",
        "X=[[np.identity(n)[j] for j in cbow(L).connected_token(cbow(L).word_ls[i],2)] for i in range(n)]\n",
        "X=sum(X,[])\n",
        "y=[[np.identity(n)[i] for j in cbow(L).connected_token(cbow(L).word_ls[i],2)] for i in range(n)]\n",
        "y=sum(y,[])\n",
        "X,y=np.array(X),np.array(y)\n",
        "X_1=np.column_stack((np.ones(len(X)),X))"
      ],
      "execution_count": null,
      "outputs": []
    },
    {
      "cell_type": "code",
      "metadata": {
        "id": "8el9MSEMe2Bh",
        "colab_type": "code",
        "colab": {
          "base_uri": "https://localhost:8080/",
          "height": 35
        },
        "outputId": "c5d96f04-fe50-4f40-f0b8-eb37000b76db"
      },
      "source": [
        "first_layer.shape"
      ],
      "execution_count": null,
      "outputs": [
        {
          "output_type": "execute_result",
          "data": {
            "text/plain": [
              "(22, 3)"
            ]
          },
          "metadata": {
            "tags": []
          },
          "execution_count": 49
        }
      ]
    },
    {
      "cell_type": "code",
      "metadata": {
        "id": "JLcPyr0AfLYL",
        "colab_type": "code",
        "colab": {
          "base_uri": "https://localhost:8080/",
          "height": 35
        },
        "outputId": "370c81c6-8a82-457d-c381-b6df3fb0b9e0"
      },
      "source": [
        "(hyp-y).shape"
      ],
      "execution_count": null,
      "outputs": [
        {
          "output_type": "execute_result",
          "data": {
            "text/plain": [
              "(22, 6)"
            ]
          },
          "metadata": {
            "tags": []
          },
          "execution_count": 50
        }
      ]
    },
    {
      "cell_type": "code",
      "metadata": {
        "id": "9TjYLhVufOE1",
        "colab_type": "code",
        "colab": {
          "base_uri": "https://localhost:8080/",
          "height": 35
        },
        "outputId": "7e9cf042-f8e8-46dc-953c-51af8ccbbfc0"
      },
      "source": [
        "len(X)"
      ],
      "execution_count": null,
      "outputs": [
        {
          "output_type": "execute_result",
          "data": {
            "text/plain": [
              "22"
            ]
          },
          "metadata": {
            "tags": []
          },
          "execution_count": 51
        }
      ]
    },
    {
      "cell_type": "code",
      "metadata": {
        "id": "-9GsA7qn8H7V",
        "colab_type": "code",
        "colab": {
          "base_uri": "https://localhost:8080/",
          "height": 935
        },
        "outputId": "14f11be2-67e3-4b2f-d7c8-a96d67e90d02"
      },
      "source": [
        "learning_rate=0.1\n",
        "num_epoch=10000\n",
        "np.random.seed(0)\n",
        "hidden_num=3\n",
        "\n",
        "W_1=np.random.random(size=(n+1,hidden_num))\n",
        "W_2=np.random.random(size=(hidden_num+1,n))\n",
        "epoch_ls=[]\n",
        "loss_ls=[]\n",
        "for epoch in range(num_epoch):\n",
        "    first_layer=np.dot(X_1,W_1)\n",
        "    first_layer_1=np.column_stack((np.ones(len(first_layer)),first_layer))\n",
        "    output_layer=np.dot(first_layer_1,W_2)\n",
        "    hyp=(np.exp(output_layer).T/np.exp(output_layer).sum(axis=1)).T\n",
        "    error=-np.multiply(y,np.log(hyp)).sum()/len(X)\n",
        "    \n",
        "    len_neighbor=[len(cbow(L).connected_token(cbow(L).word_ls[j],2)) for j in range(n)]\n",
        "    arr=np.zeros(n)\n",
        "    for p,v in enumerate(np.argsort(-hyp)[[sum(len_neighbor[:j]) for j in range(n)]]):\n",
        "        arr=np.row_stack((arr,np.identity(n)[v<len_neighbor[p]]))\n",
        "    pred=arr[1:]\n",
        "    accuracy=(y.argmax(axis=1)==pred.argmax(axis=1)).mean()\n",
        "\n",
        "    if epoch%200==0:\n",
        "        print(f\"epoch : {epoch} loss : {error}\")\n",
        "        epoch_ls.append(epoch)\n",
        "        loss_ls.append(error)\n",
        "    if error<1.1:\n",
        "        break\n",
        "    W_1=W_1-np.dot(X_1.T,np.dot(hyp-y,W_2.T).T[1:].T)*learning_rate/len(X)\n",
        "    W_2=W_2-np.dot(first_layer_1.T,(hyp-y))*learning_rate/len(X)\n",
        "print(f\"epoch : {epoch}, loss : {error}\")"
      ],
      "execution_count": null,
      "outputs": [
        {
          "output_type": "stream",
          "text": [
            "epoch : 0 loss : 1.969774975902621\n",
            "epoch : 200 loss : 1.6708085160251995\n",
            "epoch : 400 loss : 1.5730775840353837\n",
            "epoch : 600 loss : 1.5019141337127067\n",
            "epoch : 800 loss : 1.4505184971956182\n",
            "epoch : 1000 loss : 1.4242720804071711\n",
            "epoch : 1200 loss : 1.4138188131645901\n",
            "epoch : 1400 loss : 1.4087505769750754\n",
            "epoch : 1600 loss : 1.4058994255967983\n",
            "epoch : 1800 loss : 1.404125771301845\n",
            "epoch : 2000 loss : 1.4029386457365747\n",
            "epoch : 2200 loss : 1.402098969850712\n",
            "epoch : 2400 loss : 1.4014790050799226\n",
            "epoch : 2600 loss : 1.4010053398803095\n",
            "epoch : 2800 loss : 1.4006332405683328\n",
            "epoch : 3000 loss : 1.400334113017495\n",
            "epoch : 3200 loss : 1.4000889396409633\n",
            "epoch : 3400 loss : 1.3998846420899624\n",
            "epoch : 3600 loss : 1.399711965787585\n",
            "epoch : 3800 loss : 1.3995641979090323\n",
            "epoch : 4000 loss : 1.3994363624576998\n",
            "epoch : 4200 loss : 1.399324699104529\n",
            "epoch : 4400 loss : 1.399226316518858\n",
            "epoch : 4600 loss : 1.3991389561713226\n",
            "epoch : 4800 loss : 1.399060827891815\n",
            "epoch : 5000 loss : 1.3989904930959252\n",
            "epoch : 5200 loss : 1.3989267803081415\n",
            "epoch : 5400 loss : 1.398868722939374\n",
            "epoch : 5600 loss : 1.3988155126108728\n",
            "epoch : 5800 loss : 1.398766463443728\n",
            "epoch : 6000 loss : 1.398720984110075\n",
            "epoch : 6200 loss : 1.3986785553401013\n",
            "epoch : 6400 loss : 1.398638711160948\n",
            "epoch : 6600 loss : 1.3986010225074827\n",
            "epoch : 6800 loss : 1.3985650820473972\n",
            "epoch : 7000 loss : 1.3985304891324477\n",
            "epoch : 7200 loss : 1.3984968337299553\n",
            "epoch : 7400 loss : 1.3984636779883586\n",
            "epoch : 7600 loss : 1.3984305337064575\n",
            "epoch : 7800 loss : 1.3983968333307149\n",
            "epoch : 8000 loss : 1.3983618910655948\n",
            "epoch : 8200 loss : 1.3983248490241427\n",
            "epoch : 8400 loss : 1.3982846006919607\n",
            "epoch : 8600 loss : 1.398239679684106\n",
            "epoch : 8800 loss : 1.3981880947328156\n",
            "epoch : 9000 loss : 1.3981270801173566\n",
            "epoch : 9200 loss : 1.3980527109073768\n",
            "epoch : 9400 loss : 1.3979592983053457\n",
            "epoch : 9600 loss : 1.3978384210137773\n",
            "epoch : 9800 loss : 1.3976773441762134\n",
            "epoch : 9999, loss : 1.397457692331798\n"
          ],
          "name": "stdout"
        }
      ]
    },
    {
      "cell_type": "code",
      "metadata": {
        "id": "k8rBkkFb8H9m",
        "colab_type": "code",
        "colab": {
          "base_uri": "https://localhost:8080/",
          "height": 143
        },
        "outputId": "79ac857d-37a3-41a1-bbed-6fac9a58ecda"
      },
      "source": [
        "W_1"
      ],
      "execution_count": null,
      "outputs": [
        {
          "output_type": "execute_result",
          "data": {
            "text/plain": [
              "array([[-0.19924463, -0.41464559,  0.64039809],\n",
              "       [ 0.77937319,  1.048742  ,  1.42075043],\n",
              "       [ 0.97424015,  1.06375243,  2.163525  ],\n",
              "       [-1.576665  ,  2.67119346,  1.19329817],\n",
              "       [-0.4617257 , -1.49633458, -0.98678403],\n",
              "       [ 0.04077361, -1.73337047,  1.18012533],\n",
              "       [ 2.29518814,  1.23916224, -0.91255415]])"
            ]
          },
          "metadata": {
            "tags": []
          },
          "execution_count": 38
        }
      ]
    },
    {
      "cell_type": "code",
      "metadata": {
        "id": "bt4HmC9VM09h",
        "colab_type": "code",
        "colab": {
          "base_uri": "https://localhost:8080/",
          "height": 73
        },
        "outputId": "f7387675-d892-4b87-a641-7f253d758d52"
      },
      "source": [
        "from itertools import combinations\n",
        "print([np.dot(v[0],v[1])/np.sqrt(np.dot(v[0],v[0])*np.dot(v[1],v[1])) for v in combinations(W_1,2)])\n",
        "max([np.dot(v[0],v[1])/np.sqrt(np.dot(v[0],v[0])*np.dot(v[1],v[1])) for v in combinations(W_1,2)])"
      ],
      "execution_count": null,
      "outputs": [
        {
          "output_type": "stream",
          "text": [
            "[0.21005497599386808, 0.365950232409935, -0.011169757839531202, 0.05516412915583467, 0.8866721472873655, -0.7138918322984148, 0.9859609369350479, 0.5094262582649293, -0.9323660559583491, -0.0270271644384737, 0.3359350094516623, 0.4498059107578507, -0.8677567246388092, 0.13735028593681298, 0.21987031937201323, -0.7228474991709438, -0.4714515932768527, -0.1521863626028358, 0.3632970509893396, -0.3936530664634444, -0.5402683785181098]\n"
          ],
          "name": "stdout"
        },
        {
          "output_type": "execute_result",
          "data": {
            "text/plain": [
              "0.9859609369350479"
            ]
          },
          "metadata": {
            "tags": []
          },
          "execution_count": 42
        }
      ]
    },
    {
      "cell_type": "code",
      "metadata": {
        "id": "14ufucn3OTER",
        "colab_type": "code",
        "colab": {
          "base_uri": "https://localhost:8080/",
          "height": 283
        },
        "outputId": "e9f65263-95f4-4bea-ff3f-2d22ad493df8"
      },
      "source": [
        "from matplotlib import pyplot as plt\n",
        "y=loss_ls\n",
        "plt.plot(epoch_ls,loss_ls)"
      ],
      "execution_count": null,
      "outputs": [
        {
          "output_type": "execute_result",
          "data": {
            "text/plain": [
              "[<matplotlib.lines.Line2D at 0x7eff796d9048>]"
            ]
          },
          "metadata": {
            "tags": []
          },
          "execution_count": 40
        },
        {
          "output_type": "display_data",
          "data": {
            "image/png": "[encoded data removed]",
            "text/plain": [
              "<Figure size 432x288 with 1 Axes>"
            ]
          },
          "metadata": {
            "tags": [],
            "needs_background": "light"
          }
        }
      ]
    },
    {
      "cell_type": "code",
      "metadata": {
        "id": "CX-EUuwqO5-f",
        "colab_type": "code",
        "colab": {}
      },
      "source": [
        ""
      ],
      "execution_count": null,
      "outputs": []
    }
  ]
}