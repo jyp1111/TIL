{
  "nbformat": 4,
  "nbformat_minor": 0,
  "metadata": {
    "colab": {
      "name": "lda.ipynb",
      "provenance": [],
      "authorship_tag": "ABX9TyN0ABoccg75QBL6gm8PrLiA",
      "include_colab_link": true
    },
    "kernelspec": {
      "name": "python3",
      "display_name": "Python 3"
    }
  },
  "cells": [
    {
      "cell_type": "markdown",
      "metadata": {
        "id": "view-in-github",
        "colab_type": "text"
      },
      "source": [
        "<a href=\"https://colab.research.google.com/github/jyp1111/TIL/blob/master/nlp/lda.ipynb\" target=\"_parent\"><img src=\"https://colab.research.google.com/assets/colab-badge.svg\" alt=\"Open In Colab\"/></a>"
      ]
    },
    {
      "cell_type": "code",
      "metadata": {
        "id": "j0GnFNcNdT1J",
        "colab_type": "code",
        "colab": {
          "base_uri": "https://localhost:8080/",
          "height": 125
        },
        "outputId": "50b49bbc-e361-42a3-facd-4ee59b49ff10"
      },
      "source": [
        "import numpy as np\n",
        "import copy\n",
        "docs=[\"Cute kitty\",\"Eat rice or cake\",\"Kitty and hamster\",\"Eat bread\",\"Rice, bread and cake\",\"Cute hamster eats bread and cake\"]\n",
        "docs"
      ],
      "execution_count": null,
      "outputs": [
        {
          "output_type": "execute_result",
          "data": {
            "text/plain": [
              "['Cute kitty',\n",
              " 'Eat rice or cake',\n",
              " 'Kitty and hamster',\n",
              " 'Eat bread',\n",
              " 'Rice, bread and cake',\n",
              " 'Cute hamster eats bread and cake']"
            ]
          },
          "metadata": {
            "tags": []
          },
          "execution_count": 198
        }
      ]
    },
    {
      "cell_type": "code",
      "metadata": {
        "id": "04nOUkTTjDF1",
        "colab_type": "code",
        "colab": {}
      },
      "source": [
        "docs_1=[\"Cute kitty\",\"Eat rice cake\",\"Kitty hamster\",\"Eat bread\",\"Rice bread cake\",\"Cute hamster eat bread cake\"]"
      ],
      "execution_count": null,
      "outputs": []
    },
    {
      "cell_type": "code",
      "metadata": {
        "id": "8XIbUSx1nVA4",
        "colab_type": "code",
        "colab": {
          "base_uri": "https://localhost:8080/",
          "height": 125
        },
        "outputId": "0dd4b8a5-bd58-49e0-9b3d-b331a39c826c"
      },
      "source": [
        "doc=[x.lower().split() for x in docs_1]\n",
        "doc"
      ],
      "execution_count": null,
      "outputs": [
        {
          "output_type": "execute_result",
          "data": {
            "text/plain": [
              "[['cute', 'kitty'],\n",
              " ['eat', 'rice', 'cake'],\n",
              " ['kitty', 'hamster'],\n",
              " ['eat', 'bread'],\n",
              " ['rice', 'bread', 'cake'],\n",
              " ['cute', 'hamster', 'eat', 'bread', 'cake']]"
            ]
          },
          "metadata": {
            "tags": []
          },
          "execution_count": 93
        }
      ]
    },
    {
      "cell_type": "code",
      "metadata": {
        "id": "yCJPAE25C_Tb",
        "colab_type": "code",
        "colab": {}
      },
      "source": [
        "class LDA:\n",
        "    def __init__(self,token_ls):\n",
        "        self.token_ls=token_ls\n",
        "        self.word_ls=sorted(list(set(sum(token_ls,[]))))\n",
        "        self.doc_word_index=[[self.word_ls.index(y) for y in x] for x in self.token_ls]\n",
        "\n",
        "    def lda(self,topic_num,alpha,beta,epoch_num):\n",
        "        # np.random.seed(0)\n",
        "        # token_j=[list(np.random.randint(low=0,high=topic_num,size=len(x))) for x in self.token_ls]\n",
        "        token_j=[[0,1],[0,1,0],[1,1],[0,0],[0,1,0],[1,1,1,0,0]]# 문장의 단어당 주제 할당\n",
        "        token_index_ls=[(i,j) for i,x in enumerate(self.token_ls) for j,_ in enumerate(x) ]\n",
        "        for n in range(epoch_num):\n",
        "            token_j_copy=copy.deepcopy(token_j)\n",
        "            for p,q in token_index_ls:\n",
        "                token_j_copy[p][q]=np.nan\n",
        "                token_j_copy=[np.array(x) for x in token_j_copy]\n",
        "\n",
        "                doc_j=np.array([[(x==i).sum() for x in token_j_copy] for i in range(topic_num)]) # 문서당 주제 count\n",
        "\n",
        "                token_j_index=[[(i,j) for i,_ in enumerate(self.token_ls) for j,_ in enumerate(self.token_ls[i]) if self.token_ls[i][j]==x] for x in self.word_ls]\n",
        "                word_j=np.array([[(np.array([token_j_copy[x[0]][x[1]] for x in v])==i).sum() for v in token_j_index]for i in range(topic_num)])\n",
        "\n",
        "                doc_prob=(doc_j+alpha)/(doc_j+alpha).sum(axis=0)\n",
        "                word_prob=(word_j+beta).T/(word_j+beta).sum(axis=1)\n",
        "\n",
        "                token_j_copy[p][q]=np.argmax([doc_prob[i][p]*word_prob.T[i][self.word_ls.index(self.token_ls[p][q])] for i in range(topic_num)])\n",
        "                token_j_copy=[list(x) for x in token_j_copy]\n",
        "\n",
        "            if token_j==token_j_copy:\n",
        "                    break\n",
        "            token_j=token_j_copy\n",
        "            return token_j_copy"
      ],
      "execution_count": null,
      "outputs": []
    },
    {
      "cell_type": "code",
      "metadata": {
        "id": "8UCR6oBxAksT",
        "colab_type": "code",
        "colab": {
          "base_uri": "https://localhost:8080/",
          "height": 125
        },
        "outputId": "af32068f-e4a7-48fa-b48c-3c4b8c733e8f"
      },
      "source": [
        "LDA(doc).lda(topic_num=2,alpha=0.1,beta=0.001,epoch_num=20)"
      ],
      "execution_count": null,
      "outputs": [
        {
          "output_type": "execute_result",
          "data": {
            "text/plain": [
              "[[1.0, 1.0],\n",
              " [0.0, 0.0, 0.0],\n",
              " [1.0, 1.0],\n",
              " [0.0, 0.0],\n",
              " [0.0, 0.0, 0.0],\n",
              " [1.0, 1.0, 0.0, 0.0, 0.0]]"
            ]
          },
          "metadata": {
            "tags": []
          },
          "execution_count": 202
        }
      ]
    },
    {
      "cell_type": "code",
      "metadata": {
        "id": "cYFXYTcJAva4",
        "colab_type": "code",
        "colab": {}
      },
      "source": [
        ""
      ],
      "execution_count": null,
      "outputs": []
    }
  ]
}