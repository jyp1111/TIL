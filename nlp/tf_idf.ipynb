{
  "nbformat": 4,
  "nbformat_minor": 0,
  "metadata": {
    "colab": {
      "name": "tf_idf.ipynb",
      "provenance": [],
      "collapsed_sections": [],
      "authorship_tag": "ABX9TyP13TgcvvvgI5BFG3BSj0YB",
      "include_colab_link": true
    },
    "kernelspec": {
      "name": "python3",
      "display_name": "Python 3"
    }
  },
  "cells": [
    {
      "cell_type": "markdown",
      "metadata": {
        "id": "view-in-github",
        "colab_type": "text"
      },
      "source": [
        "<a href=\"https://colab.research.google.com/github/jyp1111/TIL/blob/master/nlp/tf_idf.ipynb\" target=\"_parent\"><img src=\"https://colab.research.google.com/assets/colab-badge.svg\" alt=\"Open In Colab\"/></a>"
      ]
    },
    {
      "cell_type": "code",
      "metadata": {
        "id": "M83QrFwoWwMP",
        "colab_type": "code",
        "colab": {}
      },
      "source": [
        "from collections import Counter\n",
        "import numpy as np"
      ],
      "execution_count": null,
      "outputs": []
    },
    {
      "cell_type": "code",
      "metadata": {
        "id": "zEw15aA4fLed",
        "colab_type": "code",
        "colab": {}
      },
      "source": [
        "class TDM:\n",
        "    def __init__(self,docs):\n",
        "        self.docs=docs\n",
        "        self.word_ls=list(set(sum([doc.split() for doc in self.docs],[])))\n",
        "    def tdm_matrix(self):\n",
        "        return np.array([[Counter(doc.split())[word] for word in self.word_ls] for doc in self.docs])"
      ],
      "execution_count": null,
      "outputs": []
    },
    {
      "cell_type": "code",
      "metadata": {
        "id": "O7TX8T9nWD_6",
        "colab_type": "code",
        "colab": {}
      },
      "source": [
        "class TF_IDF:\n",
        "    def __init__(self,docs):\n",
        "        self.docs=docs\n",
        "        self.word_ls=list(set(sum([doc.split() for doc in self.docs],[])))\n",
        "        \n",
        "    def tf(self):\n",
        "        return TDM(self.docs).tdm_matrix().T/TDM(self.docs).tdm_matrix().sum(axis=1)\n",
        "\n",
        "    def idf(self):\n",
        "        doc_freqs=(TDM(self.docs).tdm_matrix()!=np.zeros(TDM(self.docs).tdm_matrix().shape)).sum(axis=0)\n",
        "        \n",
        "        return -np.log(doc_freqs/len(self.docs))\n",
        "\n",
        "    def tf_idf(self):\n",
        "        \n",
        "        return TF_IDF(docs).tf().T*TF_IDF(docs).idf()"
      ],
      "execution_count": null,
      "outputs": []
    },
    {
      "cell_type": "code",
      "metadata": {
        "id": "sKr7agn5WSRv",
        "colab_type": "code",
        "colab": {}
      },
      "source": [
        "d1=\"The cat sat on my face I hate a cat\"\n",
        "d2=\"The dog sat on my bed I love a dog\""
      ],
      "execution_count": null,
      "outputs": []
    },
    {
      "cell_type": "code",
      "metadata": {
        "id": "k_9GH--5kgIn",
        "colab_type": "code",
        "colab": {}
      },
      "source": [
        "docs=[d1,d2]"
      ],
      "execution_count": null,
      "outputs": []
    },
    {
      "cell_type": "code",
      "metadata": {
        "id": "tlMDQUarlKNX",
        "colab_type": "code",
        "colab": {
          "base_uri": "https://localhost:8080/",
          "height": 52
        },
        "outputId": "af8c850f-8e9d-485c-f2ce-38519521487c"
      },
      "source": [
        "TDM(docs).tdm_matrix()"
      ],
      "execution_count": null,
      "outputs": [
        {
          "output_type": "execute_result",
          "data": {
            "text/plain": [
              "array([[1, 1, 0, 1, 1, 1, 0, 1, 0, 1, 1, 2],\n",
              "       [1, 1, 1, 1, 1, 1, 1, 0, 2, 0, 1, 0]])"
            ]
          },
          "metadata": {
            "tags": []
          },
          "execution_count": 47
        }
      ]
    },
    {
      "cell_type": "code",
      "metadata": {
        "id": "m2b0-Oc-lP79",
        "colab_type": "code",
        "colab": {
          "base_uri": "https://localhost:8080/",
          "height": 122
        },
        "outputId": "6effda81-03c1-4f6d-bf09-30ddd69b3beb"
      },
      "source": [
        "TF_IDF(docs).tf_idf()"
      ],
      "execution_count": null,
      "outputs": [
        {
          "output_type": "execute_result",
          "data": {
            "text/plain": [
              "array([[-0.        , -0.        ,  0.        , -0.        , -0.        ,\n",
              "        -0.        ,  0.        ,  0.06931472,  0.        ,  0.06931472,\n",
              "        -0.        ,  0.13862944],\n",
              "       [-0.        , -0.        ,  0.06931472, -0.        , -0.        ,\n",
              "        -0.        ,  0.06931472,  0.        ,  0.13862944,  0.        ,\n",
              "        -0.        ,  0.        ]])"
            ]
          },
          "metadata": {
            "tags": []
          },
          "execution_count": 49
        }
      ]
    },
    {
      "cell_type": "code",
      "metadata": {
        "id": "vwqiuoodgR7G",
        "colab_type": "code",
        "colab": {}
      },
      "source": [
        ""
      ],
      "execution_count": null,
      "outputs": []
    }
  ]
}