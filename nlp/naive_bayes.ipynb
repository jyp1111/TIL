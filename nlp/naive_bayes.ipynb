{
  "nbformat": 4,
  "nbformat_minor": 0,
  "metadata": {
    "colab": {
      "name": "naive_bayes.ipynb",
      "provenance": [],
      "collapsed_sections": [],
      "authorship_tag": "ABX9TyO5PSdX7y5xKpG7rcqel0zw",
      "include_colab_link": true
    },
    "kernelspec": {
      "name": "python3",
      "display_name": "Python 3"
    }
  },
  "cells": [
    {
      "cell_type": "markdown",
      "metadata": {
        "id": "view-in-github",
        "colab_type": "text"
      },
      "source": [
        "<a href=\"https://colab.research.google.com/github/jyp1111/TIL/blob/master/nlp/naive_bayes.ipynb\" target=\"_parent\"><img src=\"https://colab.research.google.com/assets/colab-badge.svg\" alt=\"Open In Colab\"/></a>"
      ]
    },
    {
      "cell_type": "code",
      "metadata": {
        "id": "qewLQCviaC5i",
        "colab_type": "code",
        "colab": {}
      },
      "source": [
        "import pandas as pd\n",
        "import numpy as np\n",
        "from sklearn.feature_extraction.text import CountVectorizer"
      ],
      "execution_count": null,
      "outputs": []
    },
    {
      "cell_type": "code",
      "metadata": {
        "id": "W8ysu4gFNSkg",
        "colab_type": "code",
        "colab": {}
      },
      "source": [
        "class naive_bayes:\n",
        "    def __init__(self,X_train,y_train):\n",
        "        vertorizer=CountVectorizer()\n",
        "        self.X_train_vec=vertorizer.fit_transform(X_train)\n",
        "        self.word_ls=vertorizer.get_feature_names()\n",
        "        self.y_train=y_train\n",
        "\n",
        "    def score(self,k,doc):\n",
        "        target_list=list(set(self.y_train))            \n",
        "        matrix=np.zeros((len(target_list),len(self.word_ls)))\n",
        "        for i in target_list:\n",
        "            matrix[i]=self.X_train_vec.toarray()[self.y_train==i].sum(axis=0)\n",
        "\n",
        "        log_prior=np.log((matrix.T).sum(axis=0)/(matrix.T).sum())\n",
        "        log_likelyhood=np.log(((np.array(matrix)).T+k)/((np.array(matrix).T).sum(axis=0)+2*k))\n",
        "        probs=np.exp(log_likelyhood[[i for i,v in enumerate(self.word_ls) if v in doc.split()]].sum(axis=0)+log_prior)\n",
        "        \n",
        "        return probs/probs.sum()\n",
        "\n",
        "    def predict(self,k,X_test):\n",
        "        return np.array([self.score(k,doc).argmax() for doc in X_test])        "
      ],
      "execution_count": null,
      "outputs": []
    },
    {
      "cell_type": "code",
      "metadata": {
        "id": "Lu0CIWh4bKG2",
        "colab_type": "code",
        "colab": {
          "base_uri": "https://localhost:8080/",
          "height": 235
        },
        "outputId": "f411342e-1707-4ae7-944f-e10ef7c3c4de"
      },
      "source": [
        "data=pd.DataFrame({\"tokens\":[\"me free lottery\",\"free get free you\",\"you free scholarship\",\"free to contact me\",\"you won award\",\"you ticket lottery\"],\n",
        "    \"spam\":[1,1,0,0,0,1]})\n",
        "data"
      ],
      "execution_count": null,
      "outputs": [
        {
          "output_type": "execute_result",
          "data": {
            "text/html": [
              "<div>\n",
              "<style scoped>\n",
              "    .dataframe tbody tr th:only-of-type {\n",
              "        vertical-align: middle;\n",
              "    }\n",
              "\n",
              "    .dataframe tbody tr th {\n",
              "        vertical-align: top;\n",
              "    }\n",
              "\n",
              "    .dataframe thead th {\n",
              "        text-align: right;\n",
              "    }\n",
              "</style>\n",
              "<table border=\"1\" class=\"dataframe\">\n",
              "  <thead>\n",
              "    <tr style=\"text-align: right;\">\n",
              "      <th></th>\n",
              "      <th>tokens</th>\n",
              "      <th>spam</th>\n",
              "    </tr>\n",
              "  </thead>\n",
              "  <tbody>\n",
              "    <tr>\n",
              "      <th>0</th>\n",
              "      <td>me free lottery</td>\n",
              "      <td>1</td>\n",
              "    </tr>\n",
              "    <tr>\n",
              "      <th>1</th>\n",
              "      <td>free get free you</td>\n",
              "      <td>1</td>\n",
              "    </tr>\n",
              "    <tr>\n",
              "      <th>2</th>\n",
              "      <td>you free scholarship</td>\n",
              "      <td>0</td>\n",
              "    </tr>\n",
              "    <tr>\n",
              "      <th>3</th>\n",
              "      <td>free to contact me</td>\n",
              "      <td>0</td>\n",
              "    </tr>\n",
              "    <tr>\n",
              "      <th>4</th>\n",
              "      <td>you won award</td>\n",
              "      <td>0</td>\n",
              "    </tr>\n",
              "    <tr>\n",
              "      <th>5</th>\n",
              "      <td>you ticket lottery</td>\n",
              "      <td>1</td>\n",
              "    </tr>\n",
              "  </tbody>\n",
              "</table>\n",
              "</div>"
            ],
            "text/plain": [
              "                 tokens  spam\n",
              "0       me free lottery     1\n",
              "1     free get free you     1\n",
              "2  you free scholarship     0\n",
              "3    free to contact me     0\n",
              "4         you won award     0\n",
              "5    you ticket lottery     1"
            ]
          },
          "metadata": {
            "tags": []
          },
          "execution_count": 3
        }
      ]
    },
    {
      "cell_type": "code",
      "metadata": {
        "id": "XkGTuof7bNBR",
        "colab_type": "code",
        "colab": {}
      },
      "source": [
        "X_train=data[\"tokens\"]\n",
        "y_train=data[\"spam\"]"
      ],
      "execution_count": null,
      "outputs": []
    },
    {
      "cell_type": "code",
      "metadata": {
        "id": "YVESiCKNyJd0",
        "colab_type": "code",
        "colab": {
          "base_uri": "https://localhost:8080/",
          "height": 34
        },
        "outputId": "765bb2ea-6f9a-4037-dfe5-bfe22a567081"
      },
      "source": [
        "model=naive_bayes(X_train,y_train)\n",
        "model.score(0.5,\"free lottery\")"
      ],
      "execution_count": null,
      "outputs": [
        {
          "output_type": "execute_result",
          "data": {
            "text/plain": [
              "array([0.125, 0.875])"
            ]
          },
          "metadata": {
            "tags": []
          },
          "execution_count": 10
        }
      ]
    },
    {
      "cell_type": "code",
      "metadata": {
        "id": "eSWEkNuY6p8s",
        "colab_type": "code",
        "colab": {
          "base_uri": "https://localhost:8080/",
          "height": 34
        },
        "outputId": "ec1fd8ab-ad3c-4a74-898c-7e2711fcb6cc"
      },
      "source": [
        "model.score(0.5,\"free dksldkjf\")"
      ],
      "execution_count": null,
      "outputs": [
        {
          "output_type": "execute_result",
          "data": {
            "text/plain": [
              "array([0.41666667, 0.58333333])"
            ]
          },
          "metadata": {
            "tags": []
          },
          "execution_count": 11
        }
      ]
    },
    {
      "cell_type": "code",
      "metadata": {
        "id": "o5_wjL7z6ySE",
        "colab_type": "code",
        "colab": {
          "base_uri": "https://localhost:8080/",
          "height": 34
        },
        "outputId": "12866022-f76a-4d84-eee7-98eb8836f70e"
      },
      "source": [
        "model.score(0.5,\"ghi we wefwe\")"
      ],
      "execution_count": null,
      "outputs": [
        {
          "output_type": "execute_result",
          "data": {
            "text/plain": [
              "array([0.5, 0.5])"
            ]
          },
          "metadata": {
            "tags": []
          },
          "execution_count": 13
        }
      ]
    },
    {
      "cell_type": "code",
      "metadata": {
        "id": "bHAAwX83dV_h",
        "colab_type": "code",
        "colab": {
          "base_uri": "https://localhost:8080/",
          "height": 52
        },
        "outputId": "6795ddab-9988-4d76-86f5-c0fb21186fb3"
      },
      "source": [
        "from sklearn.datasets import fetch_20newsgroups\n",
        "twenty_train=fetch_20newsgroups(subset=\"train\",shuffle=True)\n",
        "twenty_test=fetch_20newsgroups(subset=\"test\",shuffle=True)"
      ],
      "execution_count": null,
      "outputs": [
        {
          "output_type": "stream",
          "text": [
            "Downloading 20news dataset. This may take a few minutes.\n",
            "Downloading dataset from https://ndownloader.figshare.com/files/5975967 (14 MB)\n"
          ],
          "name": "stderr"
        }
      ]
    },
    {
      "cell_type": "code",
      "metadata": {
        "id": "rI00bYmo_b4Q",
        "colab_type": "code",
        "colab": {}
      },
      "source": [
        "X_train,y_train=twenty_train.data,twenty_train.target\n",
        "X_test,y_test=twenty_test.data,twenty_test.target"
      ],
      "execution_count": null,
      "outputs": []
    },
    {
      "cell_type": "code",
      "metadata": {
        "id": "aAfLxCa1_jW9",
        "colab_type": "code",
        "colab": {}
      },
      "source": [
        "(naive_bayes(X_train,y_train).predict(0.5,X_test)==y_test).mean()"
      ],
      "execution_count": null,
      "outputs": []
    },
    {
      "cell_type": "code",
      "metadata": {
        "id": "LB0F2UC23q91",
        "colab_type": "code",
        "colab": {
          "base_uri": "https://localhost:8080/",
          "height": 35
        },
        "outputId": "e41656f7-8b32-400a-9695-04e71125893a"
      },
      "source": [
        "from sklearn.pipeline import Pipeline\n",
        "from sklearn.feature_extraction.text import CountVectorizer\n",
        "from sklearn.feature_extraction.text import TfidfTransformer\n",
        "from sklearn.naive_bayes import MultinomialNB\n",
        "\n",
        "text_clf=Pipeline([(\"vect\",CountVectorizer()),\n",
        "                   (\"tfidf\",TfidfTransformer()),\n",
        "                   (\"clf\",MultinomialNB()),])\n",
        "text_clf=text_clf.fit(twenty_train.data,twenty_train.target)\n",
        "twenty_test=fetch_20newsgroups(subset=\"test\",shuffle=True)\n",
        "predicted=text_clf.predict(twenty_test.data)\n",
        "np.mean(predicted==twenty_test.target)"
      ],
      "execution_count": null,
      "outputs": [
        {
          "output_type": "execute_result",
          "data": {
            "text/plain": [
              "0.7738980350504514"
            ]
          },
          "metadata": {
            "tags": []
          },
          "execution_count": 3
        }
      ]
    },
    {
      "cell_type": "code",
      "metadata": {
        "id": "oRklDun0zRSM",
        "colab_type": "code",
        "colab": {}
      },
      "source": [
        "CountVectorizer?"
      ],
      "execution_count": null,
      "outputs": []
    },
    {
      "cell_type": "code",
      "metadata": {
        "id": "4Z1_5HOlEm0h",
        "colab_type": "code",
        "colab": {}
      },
      "source": [
        ""
      ],
      "execution_count": null,
      "outputs": []
    }
  ]
}